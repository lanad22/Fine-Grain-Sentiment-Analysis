{
 "cells": [
  {
   "cell_type": "markdown",
   "metadata": {},
   "source": [
    "# Hierarchical Attention Network for Document Classification"
   ]
  },
  {
   "cell_type": "markdown",
   "metadata": {},
   "source": [
    "\n",
    "# Import libraries\n"
   ]
  },
  {
   "cell_type": "code",
   "execution_count": 1,
   "metadata": {},
   "outputs": [
    {
     "name": "stderr",
     "output_type": "stream",
     "text": [
      "[nltk_data] Downloading package punkt to /Users/lanado/nltk_data...\n",
      "[nltk_data]   Package punkt is already up-to-date!\n",
      "[nltk_data] Downloading package stopwords to\n",
      "[nltk_data]     /Users/lanado/nltk_data...\n",
      "[nltk_data]   Package stopwords is already up-to-date!\n",
      "[nltk_data] Downloading package wordnet to /Users/lanado/nltk_data...\n",
      "[nltk_data]   Package wordnet is already up-to-date!\n"
     ]
    }
   ],
   "source": [
    "# Import necessary libraries\n",
    "import numpy as np\n",
    "import pandas as pd\n",
    "from matplotlib import pyplot as plt\n",
    "import math\n",
    "import string\n",
    "import requests\n",
    "from bs4 import BeautifulSoup\n",
    "import re\n",
    "\n",
    "import os\n",
    "import sys\n",
    "from IPython.display import display, HTML\n",
    "import urllib\n",
    "import gzip\n",
    "\n",
    "import nltk\n",
    "from nltk import tokenize\n",
    "nltk.download('punkt')\n",
    "from nltk.corpus import stopwords\n",
    "nltk.download('stopwords')\n",
    "from nltk.stem import WordNetLemmatizer\n",
    "nltk.download('wordnet')\n",
    "\n",
    "#import pip\n",
    "#import theano\n",
    "import tensorflow as tf\n",
    "import tensorflow.keras as keras\n",
    "from tensorflow.keras.preprocessing.sequence import pad_sequences\n",
    "from tensorflow.keras.models import Sequential, Model, load_model\n",
    "from tensorflow.keras.layers import Dense, Dropout, Activation, Flatten, Input\n",
    "from tensorflow.keras.layers import Convolution2D, MaxPooling2D, Embedding, Dropout, LSTM, GRU, Bidirectional, TimeDistributed\n",
    "from tensorflow.keras import initializers, regularizers, constraints\n",
    "from tensorflow.keras.utils import plot_model, register_keras_serializable\n",
    "from tensorflow.keras.layers import Layer\n",
    "from tensorflow.keras.preprocessing.text import Tokenizer\n",
    "import tensorflow.keras.backend as K\n",
    "\n",
    "from tensorflow.keras.optimizers import SGD\n",
    "\n"
   ]
  },
  {
   "cell_type": "code",
   "execution_count": 2,
   "metadata": {},
   "outputs": [],
   "source": [
    "# Set the logging level to ERROR to suppress warnings\n",
    "import logging\n",
    "os.environ['TF_CPP_MIN_LOG_LEVEL'] = '2'\n",
    "\n",
    "# Additionally, suppress other warnings if needed\n",
    "logging.getLogger('tensorflow').setLevel(logging.ERROR)"
   ]
  },
  {
   "cell_type": "code",
   "execution_count": 3,
   "metadata": {},
   "outputs": [],
   "source": [
    "import gensim"
   ]
  },
  {
   "cell_type": "code",
   "execution_count": 4,
   "metadata": {},
   "outputs": [],
   "source": [
    "from gensim.models import KeyedVectors"
   ]
  },
  {
   "cell_type": "markdown",
   "metadata": {},
   "source": [
    "# Functions"
   ]
  },
  {
   "cell_type": "code",
   "execution_count": 5,
   "metadata": {},
   "outputs": [],
   "source": [
    "def cleanString(review,stopWords):\n",
    "    lemmatizer = WordNetLemmatizer()\n",
    "    returnString = \"\"\n",
    "    sentence_token = tokenize.sent_tokenize(review)\n",
    "    idx_list = []\n",
    "    for j in range(len(sentence_token)):\n",
    "        single_sentence = tokenize.word_tokenize(sentence_token[j])\n",
    "        sentences_filtered = [(idx,lemmatizer.lemmatize(w.lower())) for idx,w in enumerate(single_sentence) \n",
    "                              if w.lower() not in stopWords and w.isalnum()]\n",
    "        idx_list.append([x[0] for x in sentences_filtered])\n",
    "        word_list = [x[1] for x in sentences_filtered]\n",
    "        returnString = returnString + ' '.join(word_list) + ' . '\n",
    "    \n",
    "    return returnString, idx_list\n",
    "\n",
    "\n",
    "def split_df(dataframe, column_name, training_split=0.8, validation_split=0.2):\n",
    "    if training_split + validation_split != 1.0:\n",
    "        raise ValueError('Split parameter sum should be 1.0')\n",
    "\n",
    "    # Shuffle and split the data\n",
    "    train = dataframe.reset_index().groupby(column_name).apply(lambda x: x.sample(frac=training_split))\\\n",
    "        .reset_index(drop=True).set_index('index')\n",
    "    train = train.sample(frac=1)\n",
    "    validation = dataframe.drop(train.index).sample(frac=1)\n",
    "\n",
    "    print('Total: ', len(dataframe))\n",
    "    print('Training: ', len(train), ', Percentage: ', len(train)/len(dataframe))\n",
    "    print('Validation: ', len(validation), ', Percentage: ', len(validation)/len(dataframe))\n",
    "\n",
    "    return train, validation\n",
    "\n",
    "\n",
    "def wordToSeq(text,word_index,max_sentences,max_words,max_features):\n",
    "    sentences = tokenize.sent_tokenize(text)\n",
    "    data = np.zeros((max_sentences, max_words), dtype='int32')\n",
    "    for j, sent in enumerate(sentences):\n",
    "        if j< max_sentences:\n",
    "            wordTokens = tokenize.word_tokenize(sent.rstrip('.'))\n",
    "            wordTokens = [w for w in wordTokens]\n",
    "            k=0\n",
    "            for _, word in enumerate(wordTokens):\n",
    "                try:\n",
    "                    if k<max_words and word_index[word]<max_features:\n",
    "                        data[j,k] = word_index[word]\n",
    "                        k=k+1\n",
    "                except:\n",
    "                    pass\n",
    "    return data\n",
    "\n",
    "\n",
    "def to_categorical(series, n_classes=5):\n",
    "    # Initialize an array of zeros with the shape (number of samples, number of classes)\n",
    "    y_cat = np.zeros((len(series), n_classes))\n",
    "    \n",
    "    # Set the appropriate element to 1\n",
    "    y_cat[np.arange(len(series)), series] = 1\n",
    "    \n",
    "    return y_cat\n"
   ]
  },
  {
   "cell_type": "markdown",
   "metadata": {},
   "source": [
    "# Attention layer"
   ]
  },
  {
   "cell_type": "code",
   "execution_count": 12,
   "metadata": {},
   "outputs": [],
   "source": [
    "from tensorflow.keras.saving import register_keras_serializable\n",
    "\n",
    "@register_keras_serializable()\n",
    "class AttentionLayer(Layer):\n",
    "    \"\"\"\n",
    "    Hierarchical Attention Layer as described by Hierarchical Attention Networks for Document Classification(2016)\n",
    "    - Yang et. al.\n",
    "    Source: https://www.cs.cmu.edu/~hovy/papers/16HLT-hierarchical-attention-networks.pdf\n",
    "    TensorFlow backend\n",
    "    \"\"\"\n",
    "    def __init__(self, attention_dim=100, return_coefficients=False, **kwargs):\n",
    "        super(AttentionLayer, self).__init__(**kwargs)\n",
    "        self.supports_masking = True\n",
    "        self.return_coefficients = return_coefficients\n",
    "        self.init = initializers.get('glorot_uniform')\n",
    "        self.attention_dim = attention_dim\n",
    "\n",
    "    def build(self, input_shape):\n",
    "        assert len(input_shape) == 3\n",
    "        self.W = self.add_weight(shape=(input_shape[-1], self.attention_dim),\n",
    "                                 initializer=self.init,\n",
    "                                 name='W')\n",
    "        self.b = self.add_weight(shape=(self.attention_dim,),\n",
    "                                 initializer=self.init,\n",
    "                                 name='b')\n",
    "        self.u = self.add_weight(shape=(self.attention_dim, 1),\n",
    "                                 initializer=self.init,\n",
    "                                 name='u')\n",
    "        super(AttentionLayer, self).build(input_shape)\n",
    "\n",
    "    def compute_mask(self, inputs, mask=None):\n",
    "        return None\n",
    "\n",
    "    def call(self, inputs, mask=None):\n",
    "        hit = inputs\n",
    "        uit = K.bias_add(K.dot(hit, self.W), self.b)\n",
    "        uit = K.tanh(uit)\n",
    "        \n",
    "        ait = K.dot(uit, self.u)\n",
    "        ait = K.squeeze(ait, axis=-1)\n",
    "        ait = K.exp(ait)\n",
    "        \n",
    "        if mask is not None:\n",
    "            ait *= K.cast(mask, K.floatx())\n",
    "\n",
    "        ait /= K.cast(K.sum(ait, axis=1, keepdims=True) + K.epsilon(), K.floatx())\n",
    "        ait = K.expand_dims(ait)\n",
    "        weighted_input = hit * ait\n",
    "        \n",
    "        if self.return_coefficients:\n",
    "            return [K.sum(weighted_input, axis=1), ait]\n",
    "        else:\n",
    "            return K.sum(weighted_input, axis=1)\n",
    "\n",
    "    def compute_output_shape(self, input_shape):\n",
    "        if self.return_coefficients:\n",
    "            return [(input_shape[0], input_shape[-1]), (input_shape[0], input_shape[-1], 1)]\n",
    "        else:\n",
    "            return input_shape[0], input_shape[-1]\n",
    "        \n",
    "    def get_config(self):\n",
    "        config = super(AttentionLayer, self).get_config()\n",
    "        config.update({\n",
    "            \"attention_dim\": self.attention_dim,\n",
    "            \"return_coefficients\": self.return_coefficients\n",
    "        })\n",
    "        return config\n",
    "\n",
    "    @classmethod\n",
    "    def from_config(cls, config):\n",
    "        return cls(**config)\n"
   ]
  },
  {
   "cell_type": "code",
   "execution_count": 36,
   "metadata": {},
   "outputs": [],
   "source": [
    "splits = {'train': 'yelp_review_full/train-00000-of-00001.parquet', 'test': 'yelp_review_full/test-00000-of-00001.parquet'}\n",
    "df = pd.read_parquet(\"hf://datasets/Yelp/yelp_review_full/\" + splits[\"train\"])"
   ]
  },
  {
   "cell_type": "code",
   "execution_count": 8,
   "metadata": {},
   "outputs": [],
   "source": [
    "df_test = pd.read_parquet(\"hf://datasets/Yelp/yelp_review_full/\" + splits[\"test\"])"
   ]
  },
  {
   "cell_type": "code",
   "execution_count": 9,
   "metadata": {},
   "outputs": [
    {
     "data": {
      "text/html": [
       "<div>\n",
       "<style scoped>\n",
       "    .dataframe tbody tr th:only-of-type {\n",
       "        vertical-align: middle;\n",
       "    }\n",
       "\n",
       "    .dataframe tbody tr th {\n",
       "        vertical-align: top;\n",
       "    }\n",
       "\n",
       "    .dataframe thead th {\n",
       "        text-align: right;\n",
       "    }\n",
       "</style>\n",
       "<table border=\"1\" class=\"dataframe\">\n",
       "  <thead>\n",
       "    <tr style=\"text-align: right;\">\n",
       "      <th></th>\n",
       "      <th>label</th>\n",
       "      <th>text</th>\n",
       "    </tr>\n",
       "  </thead>\n",
       "  <tbody>\n",
       "    <tr>\n",
       "      <th>0</th>\n",
       "      <td>4</td>\n",
       "      <td>dr. goldberg offers everything i look for in a...</td>\n",
       "    </tr>\n",
       "    <tr>\n",
       "      <th>1</th>\n",
       "      <td>1</td>\n",
       "      <td>Unfortunately, the frustration of being Dr. Go...</td>\n",
       "    </tr>\n",
       "    <tr>\n",
       "      <th>2</th>\n",
       "      <td>3</td>\n",
       "      <td>Been going to Dr. Goldberg for over 10 years. ...</td>\n",
       "    </tr>\n",
       "    <tr>\n",
       "      <th>3</th>\n",
       "      <td>3</td>\n",
       "      <td>Got a letter in the mail last week that said D...</td>\n",
       "    </tr>\n",
       "    <tr>\n",
       "      <th>4</th>\n",
       "      <td>0</td>\n",
       "      <td>I don't know what Dr. Goldberg was like before...</td>\n",
       "    </tr>\n",
       "    <tr>\n",
       "      <th>...</th>\n",
       "      <td>...</td>\n",
       "      <td>...</td>\n",
       "    </tr>\n",
       "    <tr>\n",
       "      <th>649995</th>\n",
       "      <td>4</td>\n",
       "      <td>I had a sprinkler that was gushing... pipe bro...</td>\n",
       "    </tr>\n",
       "    <tr>\n",
       "      <th>649996</th>\n",
       "      <td>0</td>\n",
       "      <td>Phone calls always go to voicemail and message...</td>\n",
       "    </tr>\n",
       "    <tr>\n",
       "      <th>649997</th>\n",
       "      <td>0</td>\n",
       "      <td>Looks like all of the good reviews have gone t...</td>\n",
       "    </tr>\n",
       "    <tr>\n",
       "      <th>649998</th>\n",
       "      <td>4</td>\n",
       "      <td>I was able to once again rely on Yelp to provi...</td>\n",
       "    </tr>\n",
       "    <tr>\n",
       "      <th>649999</th>\n",
       "      <td>0</td>\n",
       "      <td>I have been using this company for 11 months. ...</td>\n",
       "    </tr>\n",
       "  </tbody>\n",
       "</table>\n",
       "<p>650000 rows × 2 columns</p>\n",
       "</div>"
      ],
      "text/plain": [
       "        label                                               text\n",
       "0           4  dr. goldberg offers everything i look for in a...\n",
       "1           1  Unfortunately, the frustration of being Dr. Go...\n",
       "2           3  Been going to Dr. Goldberg for over 10 years. ...\n",
       "3           3  Got a letter in the mail last week that said D...\n",
       "4           0  I don't know what Dr. Goldberg was like before...\n",
       "...       ...                                                ...\n",
       "649995      4  I had a sprinkler that was gushing... pipe bro...\n",
       "649996      0  Phone calls always go to voicemail and message...\n",
       "649997      0  Looks like all of the good reviews have gone t...\n",
       "649998      4  I was able to once again rely on Yelp to provi...\n",
       "649999      0  I have been using this company for 11 months. ...\n",
       "\n",
       "[650000 rows x 2 columns]"
      ]
     },
     "execution_count": 9,
     "metadata": {},
     "output_type": "execute_result"
    }
   ],
   "source": [
    "df"
   ]
  },
  {
   "cell_type": "code",
   "execution_count": 10,
   "metadata": {
    "scrolled": false
   },
   "outputs": [
    {
     "name": "stdout",
     "output_type": "stream",
     "text": [
      "Average number of words in each sentence:  18\n",
      "Average number of sentences in each document:  9\n"
     ]
    }
   ],
   "source": [
    "\"\"\"\n",
    "Compute average number of words in each sentence and average number of sentences in each document.\n",
    "\"\"\"\n",
    "n_sent = 0\n",
    "n_words = 0\n",
    "for i in range(df.shape[0]):\n",
    "    sent = tokenize.sent_tokenize(df.loc[i,'text'])\n",
    "    for satz in sent:\n",
    "        n_words += len(tokenize.word_tokenize(satz))\n",
    "    n_sent += len(sent)\n",
    "    \n",
    "print(\"Average number of words in each sentence: \",round(n_words/n_sent))\n",
    "print(\"Average number of sentences in each document: \", round(n_sent/df.shape[0]))"
   ]
  },
  {
   "cell_type": "markdown",
   "metadata": {},
   "source": [
    "# Parameters"
   ]
  },
  {
   "cell_type": "code",
   "execution_count": 11,
   "metadata": {},
   "outputs": [],
   "source": [
    "MAX_FEATURES = 200000 # maximum number of unique words that should be included in the tokenized word index\n",
    "MAX_SENTENCE_NUM = 40 # maximum number of sentences in one document\n",
    "MAX_WORD_NUM = 50     # maximum number of words in each sentence\n",
    "EMBED_SIZE = 300      # vector size of word embedding"
   ]
  },
  {
   "cell_type": "markdown",
   "metadata": {},
   "source": [
    "# Data Preprocessing"
   ]
  },
  {
   "cell_type": "code",
   "execution_count": 12,
   "metadata": {
    "scrolled": true
   },
   "outputs": [],
   "source": [
    "\n",
    "def clean_articles(dataframe):\n",
    "    articles = []\n",
    "    n = dataframe.shape[0]\n",
    "    col_number = dataframe.columns.get_loc('text')\n",
    "    stopWords = set(stopwords.words('english'))\n",
    "    data_cleaned = dataframe.copy()\n",
    "\n",
    "    for i in range(n):\n",
    "        temp_string, idx_string = cleanString(dataframe.iloc[i, col_number], stopWords)\n",
    "        articles.append(temp_string)\n",
    "        print(str(i+1) + ' of ' + str(n) + \" articles cleaned.\", end='\\r')\n",
    "\n",
    "    data_cleaned.loc[:, 'text'] = pd.Series(articles, index=dataframe.index)\n",
    "    return data_cleaned\n",
    "\n"
   ]
  },
  {
   "cell_type": "code",
   "execution_count": 13,
   "metadata": {},
   "outputs": [
    {
     "name": "stdout",
     "output_type": "stream",
     "text": [
      "650000 of 650000 articles cleaned.\r"
     ]
    }
   ],
   "source": [
    "data_cleaned = clean_articles(df)"
   ]
  },
  {
   "cell_type": "code",
   "execution_count": 14,
   "metadata": {},
   "outputs": [
    {
     "name": "stdout",
     "output_type": "stream",
     "text": [
      "50000 of 50000 articles cleaned.\r"
     ]
    }
   ],
   "source": [
    "data_cleaned_test = clean_articles(df_test)"
   ]
  },
  {
   "cell_type": "code",
   "execution_count": 15,
   "metadata": {},
   "outputs": [
    {
     "data": {
      "text/html": [
       "<div>\n",
       "<style scoped>\n",
       "    .dataframe tbody tr th:only-of-type {\n",
       "        vertical-align: middle;\n",
       "    }\n",
       "\n",
       "    .dataframe tbody tr th {\n",
       "        vertical-align: top;\n",
       "    }\n",
       "\n",
       "    .dataframe thead th {\n",
       "        text-align: right;\n",
       "    }\n",
       "</style>\n",
       "<table border=\"1\" class=\"dataframe\">\n",
       "  <thead>\n",
       "    <tr style=\"text-align: right;\">\n",
       "      <th></th>\n",
       "      <th>label</th>\n",
       "      <th>text</th>\n",
       "    </tr>\n",
       "  </thead>\n",
       "  <tbody>\n",
       "    <tr>\n",
       "      <th>0</th>\n",
       "      <td>4</td>\n",
       "      <td>goldberg offer everything look general practit...</td>\n",
       "    </tr>\n",
       "    <tr>\n",
       "      <th>1</th>\n",
       "      <td>1</td>\n",
       "      <td>unfortunately frustration goldberg patient rep...</td>\n",
       "    </tr>\n",
       "    <tr>\n",
       "      <th>2</th>\n",
       "      <td>3</td>\n",
       "      <td>going goldberg 10 year . think one 1st patient...</td>\n",
       "    </tr>\n",
       "    <tr>\n",
       "      <th>3</th>\n",
       "      <td>3</td>\n",
       "      <td>got letter mail last week said goldberg moving...</td>\n",
       "    </tr>\n",
       "    <tr>\n",
       "      <th>4</th>\n",
       "      <td>0</td>\n",
       "      <td>know goldberg like moving arizona let tell sta...</td>\n",
       "    </tr>\n",
       "  </tbody>\n",
       "</table>\n",
       "</div>"
      ],
      "text/plain": [
       "   label                                               text\n",
       "0      4  goldberg offer everything look general practit...\n",
       "1      1  unfortunately frustration goldberg patient rep...\n",
       "2      3  going goldberg 10 year . think one 1st patient...\n",
       "3      3  got letter mail last week said goldberg moving...\n",
       "4      0  know goldberg like moving arizona let tell sta..."
      ]
     },
     "execution_count": 15,
     "metadata": {},
     "output_type": "execute_result"
    }
   ],
   "source": [
    "data_cleaned.head()"
   ]
  },
  {
   "cell_type": "markdown",
   "metadata": {
    "scrolled": true
   },
   "source": [
    "# Tokenization"
   ]
  },
  {
   "cell_type": "code",
   "execution_count": 16,
   "metadata": {},
   "outputs": [],
   "source": [
    "\"\"\"\n",
    "Using the keras Tokenizer class a word index is built.\n",
    "The most 'MAX_FEATURES' used words are tokenized to a number.\n",
    "this dictionary is saved in word_index\n",
    "\"\"\"\n",
    "def tokenization(data):\n",
    "    texts = []\n",
    "    n = data['text'].shape[0]\n",
    "    for i in range(n):\n",
    "        s = data['text'].iloc[i]\n",
    "        s = ' '.join([word.strip(string.punctuation) for word in s.split() if word.strip(string.punctuation) != \"\"])\n",
    "        texts.append(s)\n",
    "    tokenizer = Tokenizer(num_words=MAX_FEATURES,lower=True, oov_token=None)\n",
    "    tokenizer.fit_on_texts(texts)\n",
    "    word_index = tokenizer.word_index\n",
    "    return tokenizer, word_index\n",
    "\n",
    "tokenizer, word_index = tokenization(data_cleaned)\n",
    "#val_tokenizer, val_word_index = tokenization(data_cleaned_val)"
   ]
  },
  {
   "cell_type": "markdown",
   "metadata": {},
   "source": [
    "# Word2Vec Embedding"
   ]
  },
  {
   "cell_type": "code",
   "execution_count": 17,
   "metadata": {},
   "outputs": [
    {
     "name": "stdout",
     "output_type": "stream",
     "text": [
      "Word2Vec model loaded.\n",
      "Total absent words are 26516 which is 14.12 % of total words\n",
      "Words with 2 or less mentions 113492 which is 60.44 % of total words\n"
     ]
    }
   ],
   "source": [
    "# Load Word2Vec embeddings\n",
    "def embedding_word2Vec(tokenizer, word_index, path_to_word2vec):\n",
    "    # Load the Word2Vec model (binary format)\n",
    "    word2vec_model = KeyedVectors.load_word2vec_format(path_to_word2vec, binary=True)\n",
    "    \n",
    "    print('Word2Vec model loaded.')\n",
    "\n",
    "    # Search words in our word index in the pre-trained Word2Vec model\n",
    "    min_wordCount = 2\n",
    "    absent_words = 0\n",
    "    small_words = 0\n",
    "    embedding_matrix = np.zeros((len(word_index) + 1, EMBED_SIZE))\n",
    "    word_counts = tokenizer.word_counts\n",
    "    \n",
    "    for word, i in word_index.items():\n",
    "        if word_counts[word] > min_wordCount:\n",
    "            if word in word2vec_model:\n",
    "                embedding_matrix[i] = word2vec_model[word]\n",
    "            else:\n",
    "                absent_words += 1\n",
    "        else:\n",
    "            small_words += 1\n",
    "    \n",
    "    print('Total absent words are', absent_words, 'which is', \"%0.2f\" % (absent_words * 100 / len(word_index)),\n",
    "          '% of total words')\n",
    "    print('Words with '+str(min_wordCount)+' or less mentions', small_words, 'which is', \"%0.2f\" % (small_words * 100 / len(word_index)),\n",
    "          '% of total words')\n",
    "    \n",
    "    return embedding_matrix\n",
    "\n",
    "# Path to the downloaded Word2Vec binary file\n",
    "path_to_word2vec = 'GoogleNews-vectors-negative300.bin'\n",
    "embedding_matrix_word2vec = embedding_word2Vec(tokenizer, word_index, path_to_word2vec)\n"
   ]
  },
  {
   "cell_type": "markdown",
   "metadata": {},
   "source": [
    "# Splitting Data Set"
   ]
  },
  {
   "cell_type": "code",
   "execution_count": 18,
   "metadata": {
    "scrolled": true
   },
   "outputs": [
    {
     "name": "stderr",
     "output_type": "stream",
     "text": [
      "/var/folders/pn/jrl8dp3x15nfyh50_q0l49km0000gn/T/ipykernel_55755/2502587804.py:22: DeprecationWarning: DataFrameGroupBy.apply operated on the grouping columns. This behavior is deprecated, and in a future version of pandas the grouping columns will be excluded from the operation. Either pass `include_groups=False` to exclude the groupings or explicitly select the grouping columns after groupby to silence this warning.\n",
      "  train = dataframe.reset_index().groupby(column_name).apply(lambda x: x.sample(frac=training_split))\\\n"
     ]
    },
    {
     "name": "stdout",
     "output_type": "stream",
     "text": [
      "Total:  650000\n",
      "Training:  520000 , Percentage:  0.8\n",
      "Validation:  130000 , Percentage:  0.2\n"
     ]
    }
   ],
   "source": [
    "\"\"\"\n",
    "Split Pandas Dataframe into train, validation and testset.\n",
    "Convert data to keras conforming form\n",
    "\"\"\"\n",
    "#print(categoryToCode)\n",
    "\n",
    "train, validation= split_df(data_cleaned, 'label',0.8,0.2)\n",
    "from tensorflow.keras.utils import to_categorical\n",
    "#Training\n",
    "paras = []\n",
    "for i in range(data_cleaned['text'].shape[0]):\n",
    "    sequence = wordToSeq(df['text'].iloc[i],word_index,MAX_SENTENCE_NUM,MAX_WORD_NUM,MAX_FEATURES)\n",
    "    paras.append(sequence)\n",
    "x_train = np.array(paras)\n",
    "num_classes = 5\n",
    "y_train = to_categorical(data_cleaned['label'],num_classes)\n",
    "\n",
    "#Validation\n",
    "paras = []\n",
    "for i in range(validation['text'].shape[0]):\n",
    "    sequence = wordToSeq(validation['text'].iloc[i],word_index,MAX_SENTENCE_NUM,MAX_WORD_NUM,MAX_FEATURES)\n",
    "    paras.append(sequence)\n",
    "x_val = np.array(paras)\n",
    "y_val = to_categorical(validation['label'],num_classes)\n",
    "\n"
   ]
  },
  {
   "cell_type": "code",
   "execution_count": 19,
   "metadata": {},
   "outputs": [],
   "source": [
    "#Test\n",
    "paras = []\n",
    "for i in range(data_cleaned_test['text'].shape[0]):\n",
    "    sequence = wordToSeq(df_test['text'].iloc[i],word_index,MAX_SENTENCE_NUM,MAX_WORD_NUM,MAX_FEATURES)\n",
    "    paras.append(sequence)\n",
    "x_test = np.array(paras)\n",
    "num_classes = 5\n",
    "y_test = to_categorical(data_cleaned_test['label'],num_classes)"
   ]
  },
  {
   "cell_type": "code",
   "execution_count": 20,
   "metadata": {},
   "outputs": [
    {
     "data": {
      "text/plain": [
       "array([[0., 0., 0., 0., 1.],\n",
       "       [0., 1., 0., 0., 0.],\n",
       "       [0., 0., 0., 1., 0.],\n",
       "       ...,\n",
       "       [1., 0., 0., 0., 0.],\n",
       "       [0., 0., 0., 0., 1.],\n",
       "       [1., 0., 0., 0., 0.]])"
      ]
     },
     "execution_count": 20,
     "metadata": {},
     "output_type": "execute_result"
    }
   ],
   "source": [
    "y_train"
   ]
  },
  {
   "cell_type": "markdown",
   "metadata": {},
   "source": [
    "# HAN MODEL"
   ]
  },
  {
   "cell_type": "code",
   "execution_count": 21,
   "metadata": {},
   "outputs": [],
   "source": [
    "def build_model(hp):\n",
    "    # Create Keras functional model for hierarchical attention network\n",
    "    embedding_layer = Embedding(len(word_index) + 1, EMBED_SIZE, weights=[embedding_matrix_word2vec], \n",
    "                                input_length=MAX_WORD_NUM, trainable=False, name='word_embedding')\n",
    "\n",
    "    # Words level attention model\n",
    "    word_input = Input(shape=(MAX_WORD_NUM,), dtype='int32', name='word_input')\n",
    "    word_sequences = embedding_layer(word_input)\n",
    "    word_gru = Bidirectional(GRU(50, return_sequences=True), name='word_gru')(word_sequences)\n",
    "    word_dense = Dense(100, activation='relu', name='word_dense')(word_gru) \n",
    "    word_att, word_coeffs = AttentionLayer(EMBED_SIZE, True, name='word_attention')(word_dense)\n",
    "    wordEncoder = Model(inputs=word_input, outputs=word_att)\n",
    "\n",
    "    # Sentence level attention model\n",
    "    sent_input = Input(shape=(MAX_SENTENCE_NUM, MAX_WORD_NUM), dtype='int32', name='sent_input')\n",
    "    sent_encoder = TimeDistributed(wordEncoder, name='sent_linking')(sent_input)\n",
    "    sent_gru = Bidirectional(GRU(50, return_sequences=True), name='sent_gru')(sent_encoder)\n",
    "    sent_dense = Dense(100, activation='relu', name='sent_dense')(sent_gru) \n",
    "    sent_att, sent_coeffs = AttentionLayer(EMBED_SIZE, return_coefficients=True, name='sent_attention')(sent_dense)\n",
    "    sent_drop = Dropout(0.5, name='sent_dropout')(sent_att)\n",
    "    preds = Dense(5, activation='softmax', name='output')(sent_drop)\n",
    "\n",
    "    # Define optimizer with learning rate as a hyperparameter\n",
    "    optimizer = SGD(learning_rate=hp.Float('learning_rate', min_value=1e-5, max_value=1e-1, sampling='LOG'), \n",
    "                    momentum=0.9)\n",
    "    \n",
    "    # Compile the model\n",
    "    model = Model(sent_input, preds)\n",
    "    model.compile(optimizer=optimizer, loss='categorical_crossentropy', metrics=['acc'])\n",
    "    \n",
    "    return model\n"
   ]
  },
  {
   "cell_type": "code",
   "execution_count": 22,
   "metadata": {},
   "outputs": [],
   "source": [
    "from sklearn.model_selection import train_test_split\n",
    "\n",
    "# Sample 80,000 samples from the original training set\n",
    "x_train_sampled, _, y_train_sampled, _ = train_test_split(\n",
    "    x_train, y_train, \n",
    "    train_size=80000,  \n",
    "    stratify=y_train,  \n",
    "    random_state=42  \n",
    ")\n",
    "\n",
    "# Sample 20,000 samples from the original validation set\n",
    "x_val_sampled, _, y_val_sampled, _ = train_test_split(\n",
    "    x_val, y_val, \n",
    "    train_size=20000,  \n",
    "    stratify=y_val,  \n",
    "    random_state=42 \n",
    ")\n"
   ]
  },
  {
   "cell_type": "code",
   "execution_count": 23,
   "metadata": {},
   "outputs": [
    {
     "name": "stdout",
     "output_type": "stream",
     "text": [
      "Reloading Tuner from my_new_dir_v2/hierarchical_attention_tuning/tuner0.json\n"
     ]
    }
   ],
   "source": [
    "import keras_tuner as kt\n",
    "\n",
    "tuner = kt.Hyperband(\n",
    "    build_model,\n",
    "    objective='val_acc',\n",
    "    max_epochs=10,\n",
    "    factor=3,\n",
    "    directory='my_new_dir_v2',\n",
    "    project_name='hierarchical_attention_tuning'\n",
    ")"
   ]
  },
  {
   "cell_type": "code",
   "execution_count": 24,
   "metadata": {},
   "outputs": [],
   "source": [
    "#search\n",
    "tuner.search(x_train_sampled, y_train_sampled, validation_data=(x_val_sampled, y_val_sampled), epochs=10, batch_size=64)"
   ]
  },
  {
   "cell_type": "code",
   "execution_count": 25,
   "metadata": {},
   "outputs": [
    {
     "name": "stderr",
     "output_type": "stream",
     "text": [
      "/opt/anaconda3/envs/new_env/lib/python3.9/site-packages/keras/src/layers/core/embedding.py:90: UserWarning: Argument `input_length` is deprecated. Just remove it.\n",
      "  warnings.warn(\n"
     ]
    }
   ],
   "source": [
    "# Retrieve the best model\n",
    "best_hps = tuner.get_best_hyperparameters(num_trials=1)[0]\n",
    "\n",
    "# Train the best model\n",
    "best_model = tuner.hypermodel.build(best_hps)"
   ]
  },
  {
   "cell_type": "markdown",
   "metadata": {},
   "source": [
    "## Train"
   ]
  },
  {
   "cell_type": "code",
   "execution_count": 26,
   "metadata": {
    "scrolled": false
   },
   "outputs": [
    {
     "name": "stdout",
     "output_type": "stream",
     "text": [
      "Epoch 1/10\n",
      "\u001b[1m10157/10157\u001b[0m \u001b[32m━━━━━━━━━━━━━━━━━━━━\u001b[0m\u001b[37m\u001b[0m \u001b[1m20147s\u001b[0m 2s/step - acc: 0.2645 - loss: 1.5177 - val_acc: 0.5353 - val_loss: 1.0600\n",
      "Epoch 2/10\n",
      "\u001b[1m10157/10157\u001b[0m \u001b[32m━━━━━━━━━━━━━━━━━━━━\u001b[0m\u001b[37m\u001b[0m \u001b[1m11796s\u001b[0m 1s/step - acc: 0.5333 - loss: 1.0693 - val_acc: 0.5719 - val_loss: 0.9714\n",
      "Epoch 3/10\n",
      "\u001b[1m10157/10157\u001b[0m \u001b[32m━━━━━━━━━━━━━━━━━━━━\u001b[0m\u001b[37m\u001b[0m \u001b[1m11755s\u001b[0m 1s/step - acc: 0.5571 - loss: 1.0154 - val_acc: 0.5829 - val_loss: 0.9477\n",
      "Epoch 4/10\n",
      "\u001b[1m10157/10157\u001b[0m \u001b[32m━━━━━━━━━━━━━━━━━━━━\u001b[0m\u001b[37m\u001b[0m \u001b[1m11805s\u001b[0m 1s/step - acc: 0.5695 - loss: 0.9855 - val_acc: 0.5976 - val_loss: 0.9164\n",
      "Epoch 5/10\n",
      "\u001b[1m10157/10157\u001b[0m \u001b[32m━━━━━━━━━━━━━━━━━━━━\u001b[0m\u001b[37m\u001b[0m \u001b[1m14581s\u001b[0m 1s/step - acc: 0.5824 - loss: 0.9589 - val_acc: 0.6043 - val_loss: 0.9010\n",
      "Epoch 6/10\n",
      "\u001b[1m10157/10157\u001b[0m \u001b[32m━━━━━━━━━━━━━━━━━━━━\u001b[0m\u001b[37m\u001b[0m \u001b[1m12567s\u001b[0m 1s/step - acc: 0.5916 - loss: 0.9392 - val_acc: 0.6010 - val_loss: 0.9061\n",
      "Epoch 7/10\n",
      "\u001b[1m10157/10157\u001b[0m \u001b[32m━━━━━━━━━━━━━━━━━━━━\u001b[0m\u001b[37m\u001b[0m \u001b[1m12108s\u001b[0m 1s/step - acc: 0.5966 - loss: 0.9263 - val_acc: 0.6116 - val_loss: 0.8849\n",
      "Epoch 8/10\n",
      "\u001b[1m10157/10157\u001b[0m \u001b[32m━━━━━━━━━━━━━━━━━━━━\u001b[0m\u001b[37m\u001b[0m \u001b[1m13901s\u001b[0m 1s/step - acc: 0.6032 - loss: 0.9143 - val_acc: 0.6181 - val_loss: 0.8696\n",
      "Epoch 9/10\n",
      "\u001b[1m10157/10157\u001b[0m \u001b[32m━━━━━━━━━━━━━━━━━━━━\u001b[0m\u001b[37m\u001b[0m \u001b[1m11631s\u001b[0m 1s/step - acc: 0.6066 - loss: 0.9036 - val_acc: 0.6202 - val_loss: 0.8663\n",
      "Epoch 10/10\n",
      "\u001b[1m10157/10157\u001b[0m \u001b[32m━━━━━━━━━━━━━━━━━━━━\u001b[0m\u001b[37m\u001b[0m \u001b[1m11582s\u001b[0m 1s/step - acc: 0.6118 - loss: 0.8949 - val_acc: 0.6224 - val_loss: 0.8592\n",
      "dict_keys(['acc', 'loss', 'val_acc', 'val_loss'])\n"
     ]
    },
    {
     "data": {
      "image/png": "[encoded data removed]",
      "text/plain": [
       "<Figure size 640x480 with 1 Axes>"
      ]
     },
     "metadata": {},
     "output_type": "display_data"
    },
    {
     "data": {
      "image/png": "[encoded data removed]",
      "text/plain": [
       "<Figure size 640x480 with 1 Axes>"
      ]
     },
     "metadata": {},
     "output_type": "display_data"
    }
   ],
   "source": [
    "history = best_model.fit(x_train, y_train, validation_data=(x_val, y_val), epochs=10, batch_size=64)\n",
    "\n",
    "print(history.history.keys())\n",
    "# Plot of accuracy in each epoch\n",
    "plt.plot(history.history['acc'])\n",
    "plt.plot(history.history['val_acc'])\n",
    "plt.title('model accuracy')\n",
    "plt.ylabel('accuracy')\n",
    "plt.xlabel('epoch')\n",
    "plt.legend(['train', 'validation'], loc='upper left')\n",
    "plt.show()\n",
    "# Plot of loss in each epoch\n",
    "plt.plot(history.history['loss'])\n",
    "plt.plot(history.history['val_loss'])\n",
    "plt.title('model loss')\n",
    "plt.ylabel('loss')\n",
    "plt.xlabel('epoch')\n",
    "plt.legend(['train', 'validation'], loc='upper left')\n",
    "plt.show()"
   ]
  },
  {
   "cell_type": "markdown",
   "metadata": {},
   "source": [
    "## Test"
   ]
  },
  {
   "cell_type": "code",
   "execution_count": 31,
   "metadata": {},
   "outputs": [
    {
     "name": "stdout",
     "output_type": "stream",
     "text": [
      "\u001b[1m1563/1563\u001b[0m \u001b[32m━━━━━━━━━━━━━━━━━━━━\u001b[0m\u001b[37m\u001b[0m \u001b[1m502s\u001b[0m 321ms/step - acc: 0.5916 - loss: 0.9324\n"
     ]
    },
    {
     "data": {
      "text/plain": [
       "[0.9032521843910217, 0.6034600138664246]"
      ]
     },
     "execution_count": 31,
     "metadata": {},
     "output_type": "execute_result"
    }
   ],
   "source": [
    "best_model.evaluate(x=x_test, y=y_test, batch_size=None,verbose=1,sample_weight=None)\n"
   ]
  },
  {
   "cell_type": "code",
   "execution_count": 4,
   "metadata": {},
   "outputs": [],
   "source": [
    "from tensorflow.keras.models import load_model\n"
   ]
  },
  {
   "cell_type": "code",
   "execution_count": 13,
   "metadata": {},
   "outputs": [],
   "source": [
    "model = load_model('Model_10epoch_glove_yelp.keras', custom_objects={'AttentionLayer': AttentionLayer})"
   ]
  },
  {
   "cell_type": "markdown",
   "metadata": {},
   "source": [
    "## Save Model"
   ]
  }
 ],
 "metadata": {
  "kernelspec": {
   "display_name": "Python 3",
   "language": "python",
   "name": "python3"
  },
  "language_info": {
   "codemirror_mode": {
    "name": "ipython",
    "version": 3
   },
   "file_extension": ".py",
   "mimetype": "text/x-python",
   "name": "python",
   "nbconvert_exporter": "python",
   "pygments_lexer": "ipython3",
   "version": "3.9.18"
  }
 },
 "nbformat": 4,
 "nbformat_minor": 2
}
