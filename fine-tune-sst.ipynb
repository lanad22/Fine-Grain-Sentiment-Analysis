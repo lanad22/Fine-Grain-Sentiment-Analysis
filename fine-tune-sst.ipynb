{
 "cells": [
  {
   "cell_type": "markdown",
   "metadata": {},
   "source": [
    "# Hierarchical Attention Network for Document Classification"
   ]
  },
  {
   "cell_type": "markdown",
   "metadata": {},
   "source": [
    "\n",
    "# Import libraries\n"
   ]
  },
  {
   "cell_type": "code",
   "execution_count": 1,
   "metadata": {},
   "outputs": [
    {
     "name": "stderr",
     "output_type": "stream",
     "text": [
      "[nltk_data] Downloading package punkt to /Users/lanado/nltk_data...\n",
      "[nltk_data]   Package punkt is already up-to-date!\n",
      "[nltk_data] Downloading package stopwords to\n",
      "[nltk_data]     /Users/lanado/nltk_data...\n",
      "[nltk_data]   Package stopwords is already up-to-date!\n",
      "[nltk_data] Downloading package wordnet to /Users/lanado/nltk_data...\n",
      "[nltk_data]   Package wordnet is already up-to-date!\n"
     ]
    }
   ],
   "source": [
    "# Import necessary libraries\n",
    "import numpy as np\n",
    "import pandas as pd\n",
    "from matplotlib import pyplot as plt\n",
    "import math\n",
    "import string\n",
    "import requests\n",
    "from bs4 import BeautifulSoup\n",
    "import re\n",
    "\n",
    "import os\n",
    "import sys\n",
    "from IPython.display import display, HTML\n",
    "import urllib\n",
    "import gzip\n",
    "\n",
    "import nltk\n",
    "from nltk import tokenize\n",
    "nltk.download('punkt')\n",
    "from nltk.corpus import stopwords\n",
    "nltk.download('stopwords')\n",
    "from nltk.stem import WordNetLemmatizer\n",
    "nltk.download('wordnet')\n",
    "\n",
    "#import pip\n",
    "#import theano\n",
    "import tensorflow as tf\n",
    "import tensorflow.keras as keras\n",
    "from tensorflow.keras.preprocessing.sequence import pad_sequences\n",
    "from tensorflow.keras.models import Sequential, Model, load_model\n",
    "from tensorflow.keras.layers import Dense, Dropout, Activation, Flatten, Input\n",
    "from tensorflow.keras.layers import Convolution2D, MaxPooling2D, Embedding, Dropout, LSTM, GRU, Bidirectional, TimeDistributed\n",
    "from tensorflow.keras import initializers, regularizers, constraints\n",
    "from tensorflow.keras.utils import plot_model, register_keras_serializable\n",
    "from tensorflow.keras.layers import Layer\n",
    "from tensorflow.keras.preprocessing.text import Tokenizer\n",
    "import tensorflow.keras.backend as K\n",
    "\n",
    "from tensorflow.keras.optimizers import SGD\n",
    "\n"
   ]
  },
  {
   "cell_type": "code",
   "execution_count": 2,
   "metadata": {},
   "outputs": [],
   "source": [
    "# Set the logging level to ERROR to suppress warnings\n",
    "import logging\n",
    "os.environ['TF_CPP_MIN_LOG_LEVEL'] = '2'\n",
    "\n",
    "# Additionally, suppress other warnings if needed\n",
    "logging.getLogger('tensorflow').setLevel(logging.ERROR)"
   ]
  },
  {
   "cell_type": "markdown",
   "metadata": {},
   "source": [
    "# Functions"
   ]
  },
  {
   "cell_type": "code",
   "execution_count": 3,
   "metadata": {},
   "outputs": [],
   "source": [
    "def cleanString(review,stopWords):\n",
    "    lemmatizer = WordNetLemmatizer()\n",
    "    returnString = \"\"\n",
    "    sentence_token = tokenize.sent_tokenize(review)\n",
    "    idx_list = []\n",
    "    for j in range(len(sentence_token)):\n",
    "        single_sentence = tokenize.word_tokenize(sentence_token[j])\n",
    "        sentences_filtered = [(idx,lemmatizer.lemmatize(w.lower())) for idx,w in enumerate(single_sentence) \n",
    "                              if w.lower() not in stopWords and w.isalnum()]\n",
    "        idx_list.append([x[0] for x in sentences_filtered])\n",
    "        word_list = [x[1] for x in sentences_filtered]\n",
    "        returnString = returnString + ' '.join(word_list) + ' . '\n",
    "    \n",
    "    return returnString, idx_list\n",
    "\n",
    "\n",
    "def split_df(dataframe, column_name, training_split=0.8, validation_split=0.2):\n",
    "    if training_split + validation_split != 1.0:\n",
    "        raise ValueError('Split parameter sum should be 1.0')\n",
    "\n",
    "    # Shuffle and split the data\n",
    "    train = dataframe.reset_index().groupby(column_name).apply(lambda x: x.sample(frac=training_split))\\\n",
    "        .reset_index(drop=True).set_index('index')\n",
    "    train = train.sample(frac=1)\n",
    "    validation = dataframe.drop(train.index).sample(frac=1)\n",
    "\n",
    "    print('Total: ', len(dataframe))\n",
    "    print('Training: ', len(train), ', Percentage: ', len(train)/len(dataframe))\n",
    "    print('Validation: ', len(validation), ', Percentage: ', len(validation)/len(dataframe))\n",
    "\n",
    "    return train, validation\n",
    "\n",
    "\n",
    "def wordToSeq(text,word_index,max_sentences,max_words,max_features):\n",
    "    sentences = tokenize.sent_tokenize(text)\n",
    "    data = np.zeros((max_sentences, max_words), dtype='int32')\n",
    "    for j, sent in enumerate(sentences):\n",
    "        if j< max_sentences:\n",
    "            wordTokens = tokenize.word_tokenize(sent.rstrip('.'))\n",
    "            wordTokens = [w for w in wordTokens]\n",
    "            k=0\n",
    "            for _, word in enumerate(wordTokens):\n",
    "                try:\n",
    "                    if k<max_words and word_index[word]<max_features:\n",
    "                        data[j,k] = word_index[word]\n",
    "                        k=k+1\n",
    "                except:\n",
    "                    pass\n",
    "    return data\n",
    "\n",
    "\n",
    "def to_categorical(series, n_classes=5):\n",
    "    # Initialize an array of zeros with the shape (number of samples, number of classes)\n",
    "    y_cat = np.zeros((len(series), n_classes))\n",
    "    \n",
    "    # Set the appropriate element to 1\n",
    "    y_cat[np.arange(len(series)), series] = 1\n",
    "    \n",
    "    return y_cat\n"
   ]
  },
  {
   "cell_type": "markdown",
   "metadata": {},
   "source": [
    "# Attention layer"
   ]
  },
  {
   "cell_type": "code",
   "execution_count": 5,
   "metadata": {},
   "outputs": [],
   "source": [
    "from tensorflow.keras.models import load_model\n",
    "model = load_model('Model_10epoch_glove_yelp.keras')"
   ]
  },
  {
   "cell_type": "code",
   "execution_count": 7,
   "metadata": {},
   "outputs": [],
   "source": [
    "df_train = pd.read_csv('trees/sst_train.txt', sep='\\t', header=None, names=['label', 'text'])\n",
    "df_dev = pd.read_csv('trees/sst_dev.txt', sep='\\t', header=None, names=['label', 'text'])\n",
    "df_test = pd.read_csv('trees/sst_test.txt', sep='\\t', header=None, names=['label', 'text'])"
   ]
  },
  {
   "cell_type": "code",
   "execution_count": 9,
   "metadata": {},
   "outputs": [],
   "source": [
    "df_train = pd.concat([df_train,df_dev], axis = 0)"
   ]
  },
  {
   "cell_type": "code",
   "execution_count": 10,
   "metadata": {},
   "outputs": [
    {
     "data": {
      "text/html": [
       "<div>\n",
       "<style scoped>\n",
       "    .dataframe tbody tr th:only-of-type {\n",
       "        vertical-align: middle;\n",
       "    }\n",
       "\n",
       "    .dataframe tbody tr th {\n",
       "        vertical-align: top;\n",
       "    }\n",
       "\n",
       "    .dataframe thead th {\n",
       "        text-align: right;\n",
       "    }\n",
       "</style>\n",
       "<table border=\"1\" class=\"dataframe\">\n",
       "  <thead>\n",
       "    <tr style=\"text-align: right;\">\n",
       "      <th></th>\n",
       "      <th>label</th>\n",
       "      <th>text</th>\n",
       "    </tr>\n",
       "  </thead>\n",
       "  <tbody>\n",
       "    <tr>\n",
       "      <th>0</th>\n",
       "      <td>3</td>\n",
       "      <td>The Rock is destined to be the 21st Century 's...</td>\n",
       "    </tr>\n",
       "    <tr>\n",
       "      <th>1</th>\n",
       "      <td>4</td>\n",
       "      <td>The gorgeously elaborate continuation of `` Th...</td>\n",
       "    </tr>\n",
       "    <tr>\n",
       "      <th>2</th>\n",
       "      <td>3</td>\n",
       "      <td>Singer/composer Bryan Adams contributes a slew...</td>\n",
       "    </tr>\n",
       "    <tr>\n",
       "      <th>3</th>\n",
       "      <td>2</td>\n",
       "      <td>You 'd think by now America would have had eno...</td>\n",
       "    </tr>\n",
       "    <tr>\n",
       "      <th>4</th>\n",
       "      <td>3</td>\n",
       "      <td>Yet the act is still charming here .</td>\n",
       "    </tr>\n",
       "    <tr>\n",
       "      <th>...</th>\n",
       "      <td>...</td>\n",
       "      <td>...</td>\n",
       "    </tr>\n",
       "    <tr>\n",
       "      <th>1096</th>\n",
       "      <td>1</td>\n",
       "      <td>it seems to me the film is about the art of ri...</td>\n",
       "    </tr>\n",
       "    <tr>\n",
       "      <th>1097</th>\n",
       "      <td>1</td>\n",
       "      <td>It 's just disappointingly superficial -- a mo...</td>\n",
       "    </tr>\n",
       "    <tr>\n",
       "      <th>1098</th>\n",
       "      <td>1</td>\n",
       "      <td>The title not only describes its main characte...</td>\n",
       "    </tr>\n",
       "    <tr>\n",
       "      <th>1099</th>\n",
       "      <td>2</td>\n",
       "      <td>Sometimes it feels as if it might have been ma...</td>\n",
       "    </tr>\n",
       "    <tr>\n",
       "      <th>1100</th>\n",
       "      <td>1</td>\n",
       "      <td>Schaeffer has to find some hook on which to ha...</td>\n",
       "    </tr>\n",
       "  </tbody>\n",
       "</table>\n",
       "<p>9645 rows × 2 columns</p>\n",
       "</div>"
      ],
      "text/plain": [
       "      label                                               text\n",
       "0         3  The Rock is destined to be the 21st Century 's...\n",
       "1         4  The gorgeously elaborate continuation of `` Th...\n",
       "2         3  Singer/composer Bryan Adams contributes a slew...\n",
       "3         2  You 'd think by now America would have had eno...\n",
       "4         3               Yet the act is still charming here .\n",
       "...     ...                                                ...\n",
       "1096      1  it seems to me the film is about the art of ri...\n",
       "1097      1  It 's just disappointingly superficial -- a mo...\n",
       "1098      1  The title not only describes its main characte...\n",
       "1099      2  Sometimes it feels as if it might have been ma...\n",
       "1100      1  Schaeffer has to find some hook on which to ha...\n",
       "\n",
       "[9645 rows x 2 columns]"
      ]
     },
     "execution_count": 10,
     "metadata": {},
     "output_type": "execute_result"
    }
   ],
   "source": [
    "df_train"
   ]
  },
  {
   "cell_type": "code",
   "execution_count": 19,
   "metadata": {},
   "outputs": [],
   "source": [
    "# Convert all values in the 'text' column to strings\n",
    "df_train['text'] = df_train['text'].astype(str)\n"
   ]
  },
  {
   "cell_type": "markdown",
   "metadata": {},
   "source": [
    "# Parameters"
   ]
  },
  {
   "cell_type": "code",
   "execution_count": 22,
   "metadata": {},
   "outputs": [],
   "source": [
    "MAX_FEATURES = 200000 # maximum number of unique words that should be included in the tokenized word index\n",
    "MAX_SENTENCE_NUM = 40 # maximum number of sentences in one document\n",
    "MAX_WORD_NUM = 50     # maximum number of words in each sentence\n",
    "EMBED_SIZE = 200      # vector size of word embedding"
   ]
  },
  {
   "cell_type": "markdown",
   "metadata": {},
   "source": [
    "# Data Preprocessing"
   ]
  },
  {
   "cell_type": "code",
   "execution_count": 23,
   "metadata": {
    "scrolled": true
   },
   "outputs": [],
   "source": [
    "\n",
    "def clean_articles(dataframe):\n",
    "    articles = []\n",
    "    n = dataframe.shape[0]\n",
    "    col_number = dataframe.columns.get_loc('text')\n",
    "    stopWords = set(stopwords.words('english'))\n",
    "    data_cleaned = dataframe.copy()\n",
    "\n",
    "    for i in range(n):\n",
    "        temp_string, idx_string = cleanString(dataframe.iloc[i, col_number], stopWords)\n",
    "        articles.append(temp_string)\n",
    "        print(str(i+1) + ' of ' + str(n) + \" articles cleaned.\", end='\\r')\n",
    "\n",
    "    data_cleaned.loc[:, 'text'] = pd.Series(articles, index=dataframe.index)\n",
    "    return data_cleaned\n",
    "\n"
   ]
  },
  {
   "cell_type": "code",
   "execution_count": 24,
   "metadata": {},
   "outputs": [
    {
     "name": "stdout",
     "output_type": "stream",
     "text": [
      "9645 of 9645 articles cleaned.\r"
     ]
    }
   ],
   "source": [
    "data_cleaned = clean_articles(df_train)"
   ]
  },
  {
   "cell_type": "code",
   "execution_count": 25,
   "metadata": {},
   "outputs": [
    {
     "name": "stdout",
     "output_type": "stream",
     "text": [
      "2210 of 2210 articles cleaned.\r"
     ]
    }
   ],
   "source": [
    "data_cleaned_test = clean_articles(df_test)"
   ]
  },
  {
   "cell_type": "code",
   "execution_count": 26,
   "metadata": {},
   "outputs": [
    {
     "data": {
      "text/html": [
       "<div>\n",
       "<style scoped>\n",
       "    .dataframe tbody tr th:only-of-type {\n",
       "        vertical-align: middle;\n",
       "    }\n",
       "\n",
       "    .dataframe tbody tr th {\n",
       "        vertical-align: top;\n",
       "    }\n",
       "\n",
       "    .dataframe thead th {\n",
       "        text-align: right;\n",
       "    }\n",
       "</style>\n",
       "<table border=\"1\" class=\"dataframe\">\n",
       "  <thead>\n",
       "    <tr style=\"text-align: right;\">\n",
       "      <th></th>\n",
       "      <th>label</th>\n",
       "      <th>text</th>\n",
       "    </tr>\n",
       "  </thead>\n",
       "  <tbody>\n",
       "    <tr>\n",
       "      <th>0</th>\n",
       "      <td>3</td>\n",
       "      <td>rock destined 21st century new conan going mak...</td>\n",
       "    </tr>\n",
       "    <tr>\n",
       "      <th>1</th>\n",
       "      <td>4</td>\n",
       "      <td>gorgeously elaborate continuation lord ring tr...</td>\n",
       "    </tr>\n",
       "    <tr>\n",
       "      <th>2</th>\n",
       "      <td>3</td>\n",
       "      <td>bryan adam contributes slew song potential hit...</td>\n",
       "    </tr>\n",
       "    <tr>\n",
       "      <th>3</th>\n",
       "      <td>2</td>\n",
       "      <td>think america would enough plucky british ecce...</td>\n",
       "    </tr>\n",
       "    <tr>\n",
       "      <th>4</th>\n",
       "      <td>3</td>\n",
       "      <td>yet act still charming .</td>\n",
       "    </tr>\n",
       "  </tbody>\n",
       "</table>\n",
       "</div>"
      ],
      "text/plain": [
       "   label                                               text\n",
       "0      3  rock destined 21st century new conan going mak...\n",
       "1      4  gorgeously elaborate continuation lord ring tr...\n",
       "2      3  bryan adam contributes slew song potential hit...\n",
       "3      2  think america would enough plucky british ecce...\n",
       "4      3                          yet act still charming . "
      ]
     },
     "execution_count": 26,
     "metadata": {},
     "output_type": "execute_result"
    }
   ],
   "source": [
    "data_cleaned.head()"
   ]
  },
  {
   "cell_type": "markdown",
   "metadata": {
    "scrolled": true
   },
   "source": [
    "# Tokenization"
   ]
  },
  {
   "cell_type": "code",
   "execution_count": 27,
   "metadata": {},
   "outputs": [],
   "source": [
    "\"\"\"\n",
    "Using the keras Tokenizer class a word index is built.\n",
    "The most 'MAX_FEATURES' used words are tokenized to a number.\n",
    "this dictionary is saved in word_index\n",
    "\"\"\"\n",
    "def tokenization(data):\n",
    "    texts = []\n",
    "    n = data['text'].shape[0]\n",
    "    for i in range(n):\n",
    "        s = data['text'].iloc[i]\n",
    "        s = ' '.join([word.strip(string.punctuation) for word in s.split() if word.strip(string.punctuation) != \"\"])\n",
    "        texts.append(s)\n",
    "    tokenizer = Tokenizer(num_words=MAX_FEATURES,lower=True, oov_token=None)\n",
    "    tokenizer.fit_on_texts(texts)\n",
    "    word_index = tokenizer.word_index\n",
    "    return tokenizer, word_index\n",
    "\n",
    "tokenizer, word_index = tokenization(data_cleaned)\n",
    "#val_tokenizer, val_word_index = tokenization(data_cleaned_val)"
   ]
  },
  {
   "cell_type": "markdown",
   "metadata": {},
   "source": [
    "## GloVe Embedding Matrix"
   ]
  },
  {
   "cell_type": "code",
   "execution_count": 28,
   "metadata": {},
   "outputs": [
    {
     "name": "stdout",
     "output_type": "stream",
     "text": [
      "Found 400000 word vectors.\n",
      "Total absent words are 10 which is 0.07 % of total words\n",
      "Words with 2 or less mentions 8641 which is 61.24 % of total words\n"
     ]
    }
   ],
   "source": [
    "\"\"\"\n",
    "A pre-trained word to vector is used from GloVe by Pennington et. al.\n",
    "Source: https://nlp.stanford.edu/projects/glove/\n",
    "The data was trained on wikipedia articles. Each word is described by a 100d vector.\n",
    "\"\"\"\n",
    "\n",
    "# Load word vectors from pre-trained dataset\n",
    "def embedding(tokenizer,word_index):\n",
    "    embeddings_index = {}\n",
    "    f = open(os.path.join(os.getcwd(), 'glove.6B.200d.txt'),encoding='UTF-8')\n",
    "    for line in f:\n",
    "        values = line.split()\n",
    "        word = values[0]\n",
    "        coefs = np.asarray(values[1:], dtype='float32')\n",
    "        embeddings_index[word] = coefs\n",
    "    f.close()\n",
    "    print('Found %s word vectors.' % len(embeddings_index))\n",
    "\n",
    "    # Search words in our word index in the pre-trained dataset\n",
    "    # Create an embedding matrix for our bbc dataset\n",
    "    min_wordCount = 2\n",
    "    absent_words = 0\n",
    "    small_words = 0\n",
    "    embedding_matrix = np.zeros((len(word_index) + 1, EMBED_SIZE))\n",
    "    word_counts = tokenizer.word_counts\n",
    "    for word, i in word_index.items():\n",
    "        if word_counts[word] > min_wordCount:\n",
    "            embedding_vector = embeddings_index.get(word)\n",
    "            if embedding_vector is not None:\n",
    "                # words not found in embedding index will be all-zeros.\n",
    "                embedding_matrix[i] = embedding_vector\n",
    "            else:\n",
    "                absent_words += 1\n",
    "        else:\n",
    "            small_words += 1\n",
    "    print('Total absent words are', absent_words, 'which is', \"%0.2f\" % (absent_words * 100 / len(word_index)),\n",
    "        '% of total words')\n",
    "    print('Words with '+str(min_wordCount)+' or less mentions', small_words, 'which is', \"%0.2f\" % (small_words * 100 / len(word_index)),\n",
    "        '% of total words')\n",
    "    return embedding_matrix\n",
    "    \n",
    "embedding_matrix = embedding(tokenizer, word_index)\n",
    "#embedding_matrix_val = embedding(val_tokenizer, val_word_index)"
   ]
  },
  {
   "cell_type": "markdown",
   "metadata": {},
   "source": [
    "# Splitting Data Set"
   ]
  },
  {
   "cell_type": "code",
   "execution_count": 30,
   "metadata": {
    "scrolled": true
   },
   "outputs": [
    {
     "name": "stderr",
     "output_type": "stream",
     "text": [
      "/var/folders/pn/jrl8dp3x15nfyh50_q0l49km0000gn/T/ipykernel_30380/2502587804.py:22: DeprecationWarning: DataFrameGroupBy.apply operated on the grouping columns. This behavior is deprecated, and in a future version of pandas the grouping columns will be excluded from the operation. Either pass `include_groups=False` to exclude the groupings or explicitly select the grouping columns after groupby to silence this warning.\n",
      "  train = dataframe.reset_index().groupby(column_name).apply(lambda x: x.sample(frac=training_split))\\\n"
     ]
    },
    {
     "name": "stdout",
     "output_type": "stream",
     "text": [
      "Total:  9645\n",
      "Training:  7716 , Percentage:  0.8\n",
      "Validation:  1591 , Percentage:  0.16495593571798858\n"
     ]
    }
   ],
   "source": [
    "\"\"\"\n",
    "Split Pandas Dataframe into train, validation and testset.\n",
    "Convert data to keras conforming form\n",
    "\"\"\"\n",
    "#print(categoryToCode)\n",
    "\n",
    "train, validation= split_df(data_cleaned, 'label',0.8,0.2)\n",
    "from tensorflow.keras.utils import to_categorical\n",
    "#Training\n",
    "paras = []\n",
    "for i in range(data_cleaned['text'].shape[0]):\n",
    "    sequence = wordToSeq(df_train['text'].iloc[i],word_index,MAX_SENTENCE_NUM,MAX_WORD_NUM,MAX_FEATURES)\n",
    "    paras.append(sequence)\n",
    "x_train = np.array(paras)\n",
    "num_classes = 5\n",
    "y_train = to_categorical(data_cleaned['label'],num_classes)\n",
    "\n",
    "#Validation\n",
    "paras = []\n",
    "for i in range(validation['text'].shape[0]):\n",
    "    sequence = wordToSeq(validation['text'].iloc[i],word_index,MAX_SENTENCE_NUM,MAX_WORD_NUM,MAX_FEATURES)\n",
    "    paras.append(sequence)\n",
    "x_val = np.array(paras)\n",
    "y_val = to_categorical(validation['label'],num_classes)\n",
    "\n"
   ]
  },
  {
   "cell_type": "code",
   "execution_count": 31,
   "metadata": {},
   "outputs": [],
   "source": [
    "#Test\n",
    "paras = []\n",
    "for i in range(data_cleaned_test['text'].shape[0]):\n",
    "    sequence = wordToSeq(df_test['text'].iloc[i],word_index,MAX_SENTENCE_NUM,MAX_WORD_NUM,MAX_FEATURES)\n",
    "    paras.append(sequence)\n",
    "x_test = np.array(paras)\n",
    "num_classes = 5\n",
    "y_test = to_categorical(data_cleaned_test['label'],num_classes)"
   ]
  },
  {
   "cell_type": "code",
   "execution_count": 32,
   "metadata": {},
   "outputs": [
    {
     "data": {
      "text/plain": [
       "array([[0., 0., 0., 1., 0.],\n",
       "       [0., 0., 0., 0., 1.],\n",
       "       [0., 0., 0., 1., 0.],\n",
       "       ...,\n",
       "       [0., 1., 0., 0., 0.],\n",
       "       [0., 0., 1., 0., 0.],\n",
       "       [0., 1., 0., 0., 0.]])"
      ]
     },
     "execution_count": 32,
     "metadata": {},
     "output_type": "execute_result"
    }
   ],
   "source": [
    "y_train"
   ]
  },
  {
   "cell_type": "code",
   "execution_count": 33,
   "metadata": {},
   "outputs": [],
   "source": [
    "for layer in model.layers[:-2]:\n",
    "    layer.trainable = False"
   ]
  },
  {
   "cell_type": "code",
   "execution_count": 36,
   "metadata": {},
   "outputs": [],
   "source": [
    "from tensorflow.keras.optimizers import Adam\n",
    "\n",
    "# Compile the model with a lower learning rate for fine-tuning\n",
    "model.compile(optimizer=Adam(learning_rate=1e-4), loss='categorical_crossentropy', metrics=['acc'])\n"
   ]
  },
  {
   "cell_type": "markdown",
   "metadata": {},
   "source": [
    "## Train"
   ]
  },
  {
   "cell_type": "code",
   "execution_count": 37,
   "metadata": {
    "scrolled": false
   },
   "outputs": [
    {
     "name": "stdout",
     "output_type": "stream",
     "text": [
      "Epoch 1/10\n",
      "\u001b[1m151/151\u001b[0m \u001b[32m━━━━━━━━━━━━━━━━━━━━\u001b[0m\u001b[37m\u001b[0m \u001b[1m137s\u001b[0m 731ms/step - acc: 0.2468 - loss: 1.8076 - val_acc: 0.2646 - val_loss: 1.7812\n",
      "Epoch 2/10\n",
      "\u001b[1m151/151\u001b[0m \u001b[32m━━━━━━━━━━━━━━━━━━━━\u001b[0m\u001b[37m\u001b[0m \u001b[1m109s\u001b[0m 719ms/step - acc: 0.2515 - loss: 1.7850 - val_acc: 0.2615 - val_loss: 1.7699\n",
      "Epoch 3/10\n",
      "\u001b[1m151/151\u001b[0m \u001b[32m━━━━━━━━━━━━━━━━━━━━\u001b[0m\u001b[37m\u001b[0m \u001b[1m109s\u001b[0m 724ms/step - acc: 0.2593 - loss: 1.7789 - val_acc: 0.2627 - val_loss: 1.7590\n",
      "Epoch 4/10\n",
      "\u001b[1m151/151\u001b[0m \u001b[32m━━━━━━━━━━━━━━━━━━━━\u001b[0m\u001b[37m\u001b[0m \u001b[1m110s\u001b[0m 726ms/step - acc: 0.2587 - loss: 1.7472 - val_acc: 0.2652 - val_loss: 1.7490\n",
      "Epoch 5/10\n",
      "\u001b[1m151/151\u001b[0m \u001b[32m━━━━━━━━━━━━━━━━━━━━\u001b[0m\u001b[37m\u001b[0m \u001b[1m110s\u001b[0m 730ms/step - acc: 0.2615 - loss: 1.7441 - val_acc: 0.2678 - val_loss: 1.7393\n",
      "Epoch 6/10\n",
      "\u001b[1m151/151\u001b[0m \u001b[32m━━━━━━━━━━━━━━━━━━━━\u001b[0m\u001b[37m\u001b[0m \u001b[1m104s\u001b[0m 690ms/step - acc: 0.2565 - loss: 1.7464 - val_acc: 0.2703 - val_loss: 1.7301\n",
      "Epoch 7/10\n",
      "\u001b[1m151/151\u001b[0m \u001b[32m━━━━━━━━━━━━━━━━━━━━\u001b[0m\u001b[37m\u001b[0m \u001b[1m107s\u001b[0m 706ms/step - acc: 0.2659 - loss: 1.7322 - val_acc: 0.2684 - val_loss: 1.7213\n",
      "Epoch 8/10\n",
      "\u001b[1m151/151\u001b[0m \u001b[32m━━━━━━━━━━━━━━━━━━━━\u001b[0m\u001b[37m\u001b[0m \u001b[1m109s\u001b[0m 725ms/step - acc: 0.2620 - loss: 1.7187 - val_acc: 0.2671 - val_loss: 1.7132\n",
      "Epoch 9/10\n",
      "\u001b[1m151/151\u001b[0m \u001b[32m━━━━━━━━━━━━━━━━━━━━\u001b[0m\u001b[37m\u001b[0m \u001b[1m109s\u001b[0m 725ms/step - acc: 0.2641 - loss: 1.7170 - val_acc: 0.2684 - val_loss: 1.7052\n",
      "Epoch 10/10\n",
      "\u001b[1m151/151\u001b[0m \u001b[32m━━━━━━━━━━━━━━━━━━━━\u001b[0m\u001b[37m\u001b[0m \u001b[1m111s\u001b[0m 733ms/step - acc: 0.2678 - loss: 1.7016 - val_acc: 0.2684 - val_loss: 1.6978\n",
      "dict_keys(['acc', 'loss', 'val_acc', 'val_loss'])\n"
     ]
    },
    {
     "data": {
      "image/png": "[encoded data removed]",
      "text/plain": [
       "<Figure size 640x480 with 1 Axes>"
      ]
     },
     "metadata": {},
     "output_type": "display_data"
    },
    {
     "data": {
      "image/png": "[encoded data removed]",
      "text/plain": [
       "<Figure size 640x480 with 1 Axes>"
      ]
     },
     "metadata": {},
     "output_type": "display_data"
    }
   ],
   "source": [
    "# Fine-tune the model on SST-5 dataset\n",
    "history = model.fit(x_train, y_train, validation_data=(x_val, y_val), epochs=10, batch_size=64)\n",
    "\n",
    "print(history.history.keys())\n",
    "# Plot of accuracy in each epoch\n",
    "plt.plot(history.history['acc'])\n",
    "plt.plot(history.history['val_acc'])\n",
    "plt.title('model accuracy')\n",
    "plt.ylabel('accuracy')\n",
    "plt.xlabel('epoch')\n",
    "plt.legend(['train', 'validation'], loc='upper left')\n",
    "plt.show()\n",
    "# Plot of loss in each epoch\n",
    "plt.plot(history.history['loss'])\n",
    "plt.plot(history.history['val_loss'])\n",
    "plt.title('model loss')\n",
    "plt.ylabel('loss')\n",
    "plt.xlabel('epoch')\n",
    "plt.legend(['train', 'validation'], loc='upper left')\n",
    "plt.show()"
   ]
  },
  {
   "cell_type": "code",
   "execution_count": 38,
   "metadata": {},
   "outputs": [
    {
     "name": "stdout",
     "output_type": "stream",
     "text": [
      "Epoch 1/20\n",
      "\u001b[1m302/302\u001b[0m \u001b[32m━━━━━━━━━━━━━━━━━━━━\u001b[0m\u001b[37m\u001b[0m \u001b[1m133s\u001b[0m 440ms/step - acc: 0.2671 - loss: 1.7028 - val_acc: 0.2696 - val_loss: 1.6847\n",
      "Epoch 2/20\n",
      "\u001b[1m302/302\u001b[0m \u001b[32m━━━━━━━━━━━━━━━━━━━━\u001b[0m\u001b[37m\u001b[0m \u001b[1m133s\u001b[0m 441ms/step - acc: 0.2681 - loss: 1.6882 - val_acc: 0.2709 - val_loss: 1.6735\n",
      "Epoch 3/20\n",
      "\u001b[1m302/302\u001b[0m \u001b[32m━━━━━━━━━━━━━━━━━━━━\u001b[0m\u001b[37m\u001b[0m \u001b[1m133s\u001b[0m 442ms/step - acc: 0.2696 - loss: 1.6690 - val_acc: 0.2690 - val_loss: 1.6640\n",
      "Epoch 4/20\n",
      "\u001b[1m302/302\u001b[0m \u001b[32m━━━━━━━━━━━━━━━━━━━━\u001b[0m\u001b[37m\u001b[0m \u001b[1m138s\u001b[0m 457ms/step - acc: 0.2633 - loss: 1.6682 - val_acc: 0.2652 - val_loss: 1.6555\n",
      "Epoch 5/20\n",
      "\u001b[1m302/302\u001b[0m \u001b[32m━━━━━━━━━━━━━━━━━━━━\u001b[0m\u001b[37m\u001b[0m \u001b[1m131s\u001b[0m 435ms/step - acc: 0.2666 - loss: 1.6450 - val_acc: 0.2640 - val_loss: 1.6481\n",
      "Epoch 6/20\n",
      "\u001b[1m302/302\u001b[0m \u001b[32m━━━━━━━━━━━━━━━━━━━━\u001b[0m\u001b[37m\u001b[0m \u001b[1m125s\u001b[0m 414ms/step - acc: 0.2640 - loss: 1.6476 - val_acc: 0.2665 - val_loss: 1.6413\n",
      "Epoch 7/20\n",
      "\u001b[1m302/302\u001b[0m \u001b[32m━━━━━━━━━━━━━━━━━━━━\u001b[0m\u001b[37m\u001b[0m \u001b[1m125s\u001b[0m 412ms/step - acc: 0.2688 - loss: 1.6409 - val_acc: 0.2696 - val_loss: 1.6352\n",
      "Epoch 8/20\n",
      "\u001b[1m302/302\u001b[0m \u001b[32m━━━━━━━━━━━━━━━━━━━━\u001b[0m\u001b[37m\u001b[0m \u001b[1m124s\u001b[0m 412ms/step - acc: 0.2684 - loss: 1.6397 - val_acc: 0.2696 - val_loss: 1.6296\n",
      "Epoch 9/20\n",
      "\u001b[1m302/302\u001b[0m \u001b[32m━━━━━━━━━━━━━━━━━━━━\u001b[0m\u001b[37m\u001b[0m \u001b[1m125s\u001b[0m 413ms/step - acc: 0.2782 - loss: 1.6151 - val_acc: 0.2715 - val_loss: 1.6247\n",
      "Epoch 10/20\n",
      "\u001b[1m302/302\u001b[0m \u001b[32m━━━━━━━━━━━━━━━━━━━━\u001b[0m\u001b[37m\u001b[0m \u001b[1m124s\u001b[0m 412ms/step - acc: 0.2599 - loss: 1.6314 - val_acc: 0.2759 - val_loss: 1.6201\n",
      "Epoch 11/20\n",
      "\u001b[1m302/302\u001b[0m \u001b[32m━━━━━━━━━━━━━━━━━━━━\u001b[0m\u001b[37m\u001b[0m \u001b[1m124s\u001b[0m 412ms/step - acc: 0.2650 - loss: 1.6159 - val_acc: 0.2753 - val_loss: 1.6160\n",
      "Epoch 12/20\n",
      "\u001b[1m302/302\u001b[0m \u001b[32m━━━━━━━━━━━━━━━━━━━━\u001b[0m\u001b[37m\u001b[0m \u001b[1m125s\u001b[0m 413ms/step - acc: 0.2613 - loss: 1.6168 - val_acc: 0.2740 - val_loss: 1.6123\n",
      "Epoch 13/20\n",
      "\u001b[1m302/302\u001b[0m \u001b[32m━━━━━━━━━━━━━━━━━━━━\u001b[0m\u001b[37m\u001b[0m \u001b[1m124s\u001b[0m 411ms/step - acc: 0.2641 - loss: 1.6072 - val_acc: 0.2747 - val_loss: 1.6089\n",
      "Epoch 14/20\n",
      "\u001b[1m302/302\u001b[0m \u001b[32m━━━━━━━━━━━━━━━━━━━━\u001b[0m\u001b[37m\u001b[0m \u001b[1m125s\u001b[0m 414ms/step - acc: 0.2636 - loss: 1.6045 - val_acc: 0.2722 - val_loss: 1.6059\n",
      "Epoch 15/20\n",
      "\u001b[1m302/302\u001b[0m \u001b[32m━━━━━━━━━━━━━━━━━━━━\u001b[0m\u001b[37m\u001b[0m \u001b[1m124s\u001b[0m 411ms/step - acc: 0.2663 - loss: 1.6049 - val_acc: 0.2709 - val_loss: 1.6032\n",
      "Epoch 16/20\n",
      "\u001b[1m302/302\u001b[0m \u001b[32m━━━━━━━━━━━━━━━━━━━━\u001b[0m\u001b[37m\u001b[0m \u001b[1m125s\u001b[0m 413ms/step - acc: 0.2669 - loss: 1.6040 - val_acc: 0.2678 - val_loss: 1.6006\n",
      "Epoch 17/20\n",
      "\u001b[1m302/302\u001b[0m \u001b[32m━━━━━━━━━━━━━━━━━━━━\u001b[0m\u001b[37m\u001b[0m \u001b[1m124s\u001b[0m 411ms/step - acc: 0.2759 - loss: 1.5929 - val_acc: 0.2696 - val_loss: 1.5983\n",
      "Epoch 18/20\n",
      "\u001b[1m302/302\u001b[0m \u001b[32m━━━━━━━━━━━━━━━━━━━━\u001b[0m\u001b[37m\u001b[0m \u001b[1m123s\u001b[0m 409ms/step - acc: 0.2826 - loss: 1.5955 - val_acc: 0.2709 - val_loss: 1.5961\n",
      "Epoch 19/20\n",
      "\u001b[1m302/302\u001b[0m \u001b[32m━━━━━━━━━━━━━━━━━━━━\u001b[0m\u001b[37m\u001b[0m \u001b[1m123s\u001b[0m 408ms/step - acc: 0.2695 - loss: 1.5973 - val_acc: 0.2734 - val_loss: 1.5942\n",
      "Epoch 20/20\n",
      "\u001b[1m302/302\u001b[0m \u001b[32m━━━━━━━━━━━━━━━━━━━━\u001b[0m\u001b[37m\u001b[0m \u001b[1m123s\u001b[0m 409ms/step - acc: 0.2690 - loss: 1.5947 - val_acc: 0.2722 - val_loss: 1.5925\n"
     ]
    }
   ],
   "source": [
    "history = model.fit(x_train, y_train, validation_data=(x_val, y_val), epochs=20, batch_size=32)"
   ]
  },
  {
   "cell_type": "code",
   "execution_count": 39,
   "metadata": {},
   "outputs": [
    {
     "name": "stdout",
     "output_type": "stream",
     "text": [
      "Epoch 1/50\n",
      "\u001b[1m302/302\u001b[0m \u001b[32m━━━━━━━━━━━━━━━━━━━━\u001b[0m\u001b[37m\u001b[0m \u001b[1m129s\u001b[0m 429ms/step - acc: 0.2683 - loss: 1.5814 - val_acc: 0.2740 - val_loss: 1.5909\n",
      "Epoch 2/50\n",
      "\u001b[1m302/302\u001b[0m \u001b[32m━━━━━━━━━━━━━━━━━━━━\u001b[0m\u001b[37m\u001b[0m \u001b[1m132s\u001b[0m 436ms/step - acc: 0.2653 - loss: 1.5957 - val_acc: 0.2747 - val_loss: 1.5895\n",
      "Epoch 3/50\n",
      "\u001b[1m302/302\u001b[0m \u001b[32m━━━━━━━━━━━━━━━━━━━━\u001b[0m\u001b[37m\u001b[0m \u001b[1m132s\u001b[0m 437ms/step - acc: 0.2594 - loss: 1.5857 - val_acc: 0.2728 - val_loss: 1.5880\n",
      "Epoch 4/50\n",
      "\u001b[1m302/302\u001b[0m \u001b[32m━━━━━━━━━━━━━━━━━━━━\u001b[0m\u001b[37m\u001b[0m \u001b[1m134s\u001b[0m 444ms/step - acc: 0.2695 - loss: 1.5785 - val_acc: 0.2734 - val_loss: 1.5868\n",
      "Epoch 5/50\n",
      "\u001b[1m302/302\u001b[0m \u001b[32m━━━━━━━━━━━━━━━━━━━━\u001b[0m\u001b[37m\u001b[0m \u001b[1m132s\u001b[0m 436ms/step - acc: 0.2819 - loss: 1.5790 - val_acc: 0.2740 - val_loss: 1.5856\n",
      "Epoch 6/50\n",
      "\u001b[1m302/302\u001b[0m \u001b[32m━━━━━━━━━━━━━━━━━━━━\u001b[0m\u001b[37m\u001b[0m \u001b[1m124s\u001b[0m 410ms/step - acc: 0.2743 - loss: 1.5836 - val_acc: 0.2690 - val_loss: 1.5845\n",
      "Epoch 7/50\n",
      "\u001b[1m302/302\u001b[0m \u001b[32m━━━━━━━━━━━━━━━━━━━━\u001b[0m\u001b[37m\u001b[0m \u001b[1m125s\u001b[0m 414ms/step - acc: 0.2759 - loss: 1.5852 - val_acc: 0.2678 - val_loss: 1.5836\n",
      "Epoch 8/50\n",
      "\u001b[1m302/302\u001b[0m \u001b[32m━━━━━━━━━━━━━━━━━━━━\u001b[0m\u001b[37m\u001b[0m \u001b[1m125s\u001b[0m 414ms/step - acc: 0.2652 - loss: 1.5816 - val_acc: 0.2678 - val_loss: 1.5826\n",
      "Epoch 9/50\n",
      "\u001b[1m302/302\u001b[0m \u001b[32m━━━━━━━━━━━━━━━━━━━━\u001b[0m\u001b[37m\u001b[0m \u001b[1m125s\u001b[0m 413ms/step - acc: 0.2681 - loss: 1.5799 - val_acc: 0.2627 - val_loss: 1.5818\n",
      "Epoch 10/50\n",
      "\u001b[1m302/302\u001b[0m \u001b[32m━━━━━━━━━━━━━━━━━━━━\u001b[0m\u001b[37m\u001b[0m \u001b[1m125s\u001b[0m 413ms/step - acc: 0.2713 - loss: 1.5805 - val_acc: 0.2615 - val_loss: 1.5810\n",
      "Epoch 11/50\n",
      "\u001b[1m302/302\u001b[0m \u001b[32m━━━━━━━━━━━━━━━━━━━━\u001b[0m\u001b[37m\u001b[0m \u001b[1m125s\u001b[0m 413ms/step - acc: 0.2610 - loss: 1.5812 - val_acc: 0.2602 - val_loss: 1.5803\n",
      "Epoch 12/50\n",
      "\u001b[1m302/302\u001b[0m \u001b[32m━━━━━━━━━━━━━━━━━━━━\u001b[0m\u001b[37m\u001b[0m \u001b[1m125s\u001b[0m 413ms/step - acc: 0.2647 - loss: 1.5876 - val_acc: 0.2621 - val_loss: 1.5796\n",
      "Epoch 13/50\n",
      "\u001b[1m302/302\u001b[0m \u001b[32m━━━━━━━━━━━━━━━━━━━━\u001b[0m\u001b[37m\u001b[0m \u001b[1m125s\u001b[0m 414ms/step - acc: 0.2782 - loss: 1.5782 - val_acc: 0.2640 - val_loss: 1.5790\n",
      "Epoch 14/50\n",
      "\u001b[1m302/302\u001b[0m \u001b[32m━━━━━━━━━━━━━━━━━━━━\u001b[0m\u001b[37m\u001b[0m \u001b[1m124s\u001b[0m 412ms/step - acc: 0.2673 - loss: 1.5754 - val_acc: 0.2627 - val_loss: 1.5783\n",
      "Epoch 15/50\n",
      "\u001b[1m302/302\u001b[0m \u001b[32m━━━━━━━━━━━━━━━━━━━━\u001b[0m\u001b[37m\u001b[0m \u001b[1m125s\u001b[0m 413ms/step - acc: 0.2711 - loss: 1.5726 - val_acc: 0.2646 - val_loss: 1.5778\n",
      "Epoch 16/50\n",
      "\u001b[1m302/302\u001b[0m \u001b[32m━━━━━━━━━━━━━━━━━━━━\u001b[0m\u001b[37m\u001b[0m \u001b[1m125s\u001b[0m 414ms/step - acc: 0.2763 - loss: 1.5719 - val_acc: 0.2678 - val_loss: 1.5773\n",
      "Epoch 17/50\n",
      "\u001b[1m302/302\u001b[0m \u001b[32m━━━━━━━━━━━━━━━━━━━━\u001b[0m\u001b[37m\u001b[0m \u001b[1m123s\u001b[0m 409ms/step - acc: 0.2758 - loss: 1.5757 - val_acc: 0.2684 - val_loss: 1.5768\n",
      "Epoch 18/50\n",
      "\u001b[1m302/302\u001b[0m \u001b[32m━━━━━━━━━━━━━━━━━━━━\u001b[0m\u001b[37m\u001b[0m \u001b[1m123s\u001b[0m 408ms/step - acc: 0.2711 - loss: 1.5801 - val_acc: 0.2671 - val_loss: 1.5764\n",
      "Epoch 19/50\n",
      "\u001b[1m302/302\u001b[0m \u001b[32m━━━━━━━━━━━━━━━━━━━━\u001b[0m\u001b[37m\u001b[0m \u001b[1m124s\u001b[0m 410ms/step - acc: 0.2629 - loss: 1.5789 - val_acc: 0.2652 - val_loss: 1.5759\n",
      "Epoch 20/50\n",
      "\u001b[1m302/302\u001b[0m \u001b[32m━━━━━━━━━━━━━━━━━━━━\u001b[0m\u001b[37m\u001b[0m \u001b[1m123s\u001b[0m 408ms/step - acc: 0.2704 - loss: 1.5771 - val_acc: 0.2634 - val_loss: 1.5756\n",
      "Epoch 21/50\n",
      "\u001b[1m302/302\u001b[0m \u001b[32m━━━━━━━━━━━━━━━━━━━━\u001b[0m\u001b[37m\u001b[0m \u001b[1m124s\u001b[0m 409ms/step - acc: 0.2788 - loss: 1.5674 - val_acc: 0.2627 - val_loss: 1.5752\n",
      "Epoch 22/50\n",
      "\u001b[1m302/302\u001b[0m \u001b[32m━━━━━━━━━━━━━━━━━━━━\u001b[0m\u001b[37m\u001b[0m \u001b[1m123s\u001b[0m 407ms/step - acc: 0.2822 - loss: 1.5700 - val_acc: 0.2640 - val_loss: 1.5749\n",
      "Epoch 23/50\n",
      "\u001b[1m302/302\u001b[0m \u001b[32m━━━━━━━━━━━━━━━━━━━━\u001b[0m\u001b[37m\u001b[0m \u001b[1m124s\u001b[0m 410ms/step - acc: 0.2659 - loss: 1.5729 - val_acc: 0.2621 - val_loss: 1.5746\n",
      "Epoch 24/50\n",
      "\u001b[1m302/302\u001b[0m \u001b[32m━━━━━━━━━━━━━━━━━━━━\u001b[0m\u001b[37m\u001b[0m \u001b[1m123s\u001b[0m 409ms/step - acc: 0.2811 - loss: 1.5731 - val_acc: 0.2634 - val_loss: 1.5743\n",
      "Epoch 25/50\n",
      "\u001b[1m302/302\u001b[0m \u001b[32m━━━━━━━━━━━━━━━━━━━━\u001b[0m\u001b[37m\u001b[0m \u001b[1m124s\u001b[0m 411ms/step - acc: 0.2639 - loss: 1.5702 - val_acc: 0.2646 - val_loss: 1.5741\n",
      "Epoch 26/50\n",
      "\u001b[1m302/302\u001b[0m \u001b[32m━━━━━━━━━━━━━━━━━━━━\u001b[0m\u001b[37m\u001b[0m \u001b[1m123s\u001b[0m 408ms/step - acc: 0.2780 - loss: 1.5734 - val_acc: 0.2640 - val_loss: 1.5738\n",
      "Epoch 27/50\n",
      "\u001b[1m302/302\u001b[0m \u001b[32m━━━━━━━━━━━━━━━━━━━━\u001b[0m\u001b[37m\u001b[0m \u001b[1m123s\u001b[0m 409ms/step - acc: 0.2702 - loss: 1.5751 - val_acc: 0.2634 - val_loss: 1.5736\n",
      "Epoch 28/50\n",
      "\u001b[1m302/302\u001b[0m \u001b[32m━━━━━━━━━━━━━━━━━━━━\u001b[0m\u001b[37m\u001b[0m \u001b[1m123s\u001b[0m 408ms/step - acc: 0.2809 - loss: 1.5699 - val_acc: 0.2665 - val_loss: 1.5733\n",
      "Epoch 29/50\n",
      "\u001b[1m302/302\u001b[0m \u001b[32m━━━━━━━━━━━━━━━━━━━━\u001b[0m\u001b[37m\u001b[0m \u001b[1m123s\u001b[0m 408ms/step - acc: 0.2651 - loss: 1.5692 - val_acc: 0.2634 - val_loss: 1.5731\n",
      "Epoch 30/50\n",
      "\u001b[1m302/302\u001b[0m \u001b[32m━━━━━━━━━━━━━━━━━━━━\u001b[0m\u001b[37m\u001b[0m \u001b[1m124s\u001b[0m 410ms/step - acc: 0.2761 - loss: 1.5693 - val_acc: 0.2634 - val_loss: 1.5729\n",
      "Epoch 31/50\n",
      "\u001b[1m302/302\u001b[0m \u001b[32m━━━━━━━━━━━━━━━━━━━━\u001b[0m\u001b[37m\u001b[0m \u001b[1m123s\u001b[0m 408ms/step - acc: 0.2720 - loss: 1.5683 - val_acc: 0.2621 - val_loss: 1.5727\n",
      "Epoch 32/50\n",
      "\u001b[1m302/302\u001b[0m \u001b[32m━━━━━━━━━━━━━━━━━━━━\u001b[0m\u001b[37m\u001b[0m \u001b[1m124s\u001b[0m 410ms/step - acc: 0.2738 - loss: 1.5705 - val_acc: 0.2621 - val_loss: 1.5725\n",
      "Epoch 33/50\n",
      "\u001b[1m302/302\u001b[0m \u001b[32m━━━━━━━━━━━━━━━━━━━━\u001b[0m\u001b[37m\u001b[0m \u001b[1m123s\u001b[0m 407ms/step - acc: 0.2778 - loss: 1.5723 - val_acc: 0.2608 - val_loss: 1.5723\n",
      "Epoch 34/50\n",
      "\u001b[1m302/302\u001b[0m \u001b[32m━━━━━━━━━━━━━━━━━━━━\u001b[0m\u001b[37m\u001b[0m \u001b[1m123s\u001b[0m 409ms/step - acc: 0.2661 - loss: 1.5732 - val_acc: 0.2615 - val_loss: 1.5722\n",
      "Epoch 35/50\n",
      "\u001b[1m302/302\u001b[0m \u001b[32m━━━━━━━━━━━━━━━━━━━━\u001b[0m\u001b[37m\u001b[0m \u001b[1m123s\u001b[0m 407ms/step - acc: 0.2733 - loss: 1.5705 - val_acc: 0.2602 - val_loss: 1.5721\n",
      "Epoch 36/50\n",
      "\u001b[1m302/302\u001b[0m \u001b[32m━━━━━━━━━━━━━━━━━━━━\u001b[0m\u001b[37m\u001b[0m \u001b[1m123s\u001b[0m 408ms/step - acc: 0.2754 - loss: 1.5701 - val_acc: 0.2608 - val_loss: 1.5718\n",
      "Epoch 37/50\n",
      "\u001b[1m302/302\u001b[0m \u001b[32m━━━━━━━━━━━━━━━━━━━━\u001b[0m\u001b[37m\u001b[0m \u001b[1m124s\u001b[0m 410ms/step - acc: 0.2738 - loss: 1.5750 - val_acc: 0.2608 - val_loss: 1.5717\n",
      "Epoch 38/50\n",
      "\u001b[1m302/302\u001b[0m \u001b[32m━━━━━━━━━━━━━━━━━━━━\u001b[0m\u001b[37m\u001b[0m \u001b[1m124s\u001b[0m 410ms/step - acc: 0.2706 - loss: 1.5721 - val_acc: 0.2634 - val_loss: 1.5716\n",
      "Epoch 39/50\n",
      "\u001b[1m302/302\u001b[0m \u001b[32m━━━━━━━━━━━━━━━━━━━━\u001b[0m\u001b[37m\u001b[0m \u001b[1m123s\u001b[0m 408ms/step - acc: 0.2735 - loss: 1.5696 - val_acc: 0.2608 - val_loss: 1.5715\n",
      "Epoch 40/50\n",
      "\u001b[1m302/302\u001b[0m \u001b[32m━━━━━━━━━━━━━━━━━━━━\u001b[0m\u001b[37m\u001b[0m \u001b[1m123s\u001b[0m 409ms/step - acc: 0.2739 - loss: 1.5727 - val_acc: 0.2615 - val_loss: 1.5713\n",
      "Epoch 41/50\n",
      "\u001b[1m302/302\u001b[0m \u001b[32m━━━━━━━━━━━━━━━━━━━━\u001b[0m\u001b[37m\u001b[0m \u001b[1m123s\u001b[0m 409ms/step - acc: 0.2804 - loss: 1.5648 - val_acc: 0.2659 - val_loss: 1.5713\n",
      "Epoch 42/50\n",
      "\u001b[1m302/302\u001b[0m \u001b[32m━━━━━━━━━━━━━━━━━━━━\u001b[0m\u001b[37m\u001b[0m \u001b[1m124s\u001b[0m 410ms/step - acc: 0.2794 - loss: 1.5666 - val_acc: 0.2640 - val_loss: 1.5711\n",
      "Epoch 43/50\n",
      "\u001b[1m302/302\u001b[0m \u001b[32m━━━━━━━━━━━━━━━━━━━━\u001b[0m\u001b[37m\u001b[0m \u001b[1m123s\u001b[0m 409ms/step - acc: 0.2582 - loss: 1.5733 - val_acc: 0.2659 - val_loss: 1.5709\n",
      "Epoch 44/50\n",
      "\u001b[1m302/302\u001b[0m \u001b[32m━━━━━━━━━━━━━━━━━━━━\u001b[0m\u001b[37m\u001b[0m \u001b[1m124s\u001b[0m 409ms/step - acc: 0.2704 - loss: 1.5682 - val_acc: 0.2652 - val_loss: 1.5708\n",
      "Epoch 45/50\n",
      "\u001b[1m302/302\u001b[0m \u001b[32m━━━━━━━━━━━━━━━━━━━━\u001b[0m\u001b[37m\u001b[0m \u001b[1m124s\u001b[0m 410ms/step - acc: 0.2786 - loss: 1.5695 - val_acc: 0.2665 - val_loss: 1.5707\n",
      "Epoch 46/50\n",
      "\u001b[1m302/302\u001b[0m \u001b[32m━━━━━━━━━━━━━━━━━━━━\u001b[0m\u001b[37m\u001b[0m \u001b[1m123s\u001b[0m 409ms/step - acc: 0.2699 - loss: 1.5763 - val_acc: 0.2678 - val_loss: 1.5705\n",
      "Epoch 47/50\n",
      "\u001b[1m302/302\u001b[0m \u001b[32m━━━━━━━━━━━━━━━━━━━━\u001b[0m\u001b[37m\u001b[0m \u001b[1m124s\u001b[0m 410ms/step - acc: 0.2743 - loss: 1.5718 - val_acc: 0.2684 - val_loss: 1.5705\n",
      "Epoch 48/50\n",
      "\u001b[1m302/302\u001b[0m \u001b[32m━━━━━━━━━━━━━━━━━━━━\u001b[0m\u001b[37m\u001b[0m \u001b[1m123s\u001b[0m 407ms/step - acc: 0.2678 - loss: 1.5646 - val_acc: 0.2671 - val_loss: 1.5704\n",
      "Epoch 49/50\n",
      "\u001b[1m302/302\u001b[0m \u001b[32m━━━━━━━━━━━━━━━━━━━━\u001b[0m\u001b[37m\u001b[0m \u001b[1m124s\u001b[0m 410ms/step - acc: 0.2728 - loss: 1.5645 - val_acc: 0.2678 - val_loss: 1.5703\n",
      "Epoch 50/50\n",
      "\u001b[1m302/302\u001b[0m \u001b[32m━━━━━━━━━━━━━━━━━━━━\u001b[0m\u001b[37m\u001b[0m \u001b[1m124s\u001b[0m 410ms/step - acc: 0.2675 - loss: 1.5688 - val_acc: 0.2690 - val_loss: 1.5701\n"
     ]
    }
   ],
   "source": [
    "history = model.fit(x_train, y_train, validation_data=(x_val, y_val), epochs=50, batch_size=32)"
   ]
  },
  {
   "cell_type": "markdown",
   "metadata": {},
   "source": [
    "## Test"
   ]
  },
  {
   "cell_type": "code",
   "execution_count": 40,
   "metadata": {},
   "outputs": [
    {
     "name": "stdout",
     "output_type": "stream",
     "text": [
      "\u001b[1m70/70\u001b[0m \u001b[32m━━━━━━━━━━━━━━━━━━━━\u001b[0m\u001b[37m\u001b[0m \u001b[1m17s\u001b[0m 242ms/step - acc: 0.2822 - loss: 1.5732\n"
     ]
    },
    {
     "data": {
      "text/plain": [
       "[1.5795944929122925, 0.2678733170032501]"
      ]
     },
     "execution_count": 40,
     "metadata": {},
     "output_type": "execute_result"
    }
   ],
   "source": [
    "model.evaluate(x=x_test, y=y_test, batch_size=None,verbose=1,sample_weight=None)"
   ]
  }
 ],
 "metadata": {
  "kernelspec": {
   "display_name": "Python 3",
   "language": "python",
   "name": "python3"
  },
  "language_info": {
   "codemirror_mode": {
    "name": "ipython",
    "version": 3
   },
   "file_extension": ".py",
   "mimetype": "text/x-python",
   "name": "python",
   "nbconvert_exporter": "python",
   "pygments_lexer": "ipython3",
   "version": "3.9.18"
  }
 },
 "nbformat": 4,
 "nbformat_minor": 2
}
