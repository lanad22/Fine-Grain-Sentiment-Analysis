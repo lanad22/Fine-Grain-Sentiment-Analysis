{
 "cells": [
  {
   "cell_type": "code",
   "execution_count": 6,
   "metadata": {},
   "outputs": [],
   "source": [
    "import tensorflow as tf\n",
    "from tensorflow.keras.layers import Input, Embedding, Bidirectional, GRU, Dense, TimeDistributed, Layer, Dropout\n",
    "from tensorflow.keras.models import Model\n",
    "from tensorflow.keras.preprocessing.text import Tokenizer\n",
    "from tensorflow.keras.preprocessing.sequence import pad_sequences\n",
    "from tensorflow.keras.utils import to_categorical\n",
    "import numpy as np\n",
    "import pandas as pd\n",
    "import os\n",
    "import logging\n",
    "import nltk\n",
    "import re\n",
    "from nltk.corpus import stopwords\n",
    "from nltk.tokenize import word_tokenize"
   ]
  },
  {
   "cell_type": "code",
   "execution_count": 7,
   "metadata": {},
   "outputs": [],
   "source": [
    "# Suppress TensorFlow logging\n",
    "os.environ['TF_CPP_MIN_LOG_LEVEL'] = '3'\n",
    "logging.getLogger('tensorflow').setLevel(logging.FATAL)"
   ]
  },
  {
   "cell_type": "code",
   "execution_count": 8,
   "metadata": {},
   "outputs": [
    {
     "name": "stderr",
     "output_type": "stream",
     "text": [
      "[nltk_data] Downloading package punkt to /Users/Lanado/nltk_data...\n",
      "[nltk_data]   Package punkt is already up-to-date!\n",
      "[nltk_data] Downloading package stopwords to\n",
      "[nltk_data]     /Users/Lanado/nltk_data...\n",
      "[nltk_data]   Package stopwords is already up-to-date!\n"
     ]
    },
    {
     "data": {
      "text/plain": [
       "True"
      ]
     },
     "execution_count": 8,
     "metadata": {},
     "output_type": "execute_result"
    }
   ],
   "source": [
    "nltk.download('punkt')\n",
    "nltk.download('stopwords')"
   ]
  },
  {
   "cell_type": "code",
   "execution_count": 9,
   "metadata": {},
   "outputs": [],
   "source": [
    "def load_data(path):\n",
    "    # Load data\n",
    "    data = pd.read_csv(path, sep='\\t', header=None, names=['label', 'text'])\n",
    "    data['label'] = data['label'].str.replace('__label__', '')\n",
    "    data['label'] = data['label'].astype(int).astype('category')\n",
    "\n",
    "    return data\n",
    "\n",
    "train_path = 'trees_sst/sst_train.txt'\n",
    "val_path = 'trees_sst/sst_dev.txt'\n",
    "test_path = 'trees_sst/sst_test.txt'\n",
    "\n",
    "train_data, val_data, test_data = load_data(train_path), load_data(val_path), load_data(test_path)"
   ]
  },
  {
   "cell_type": "code",
   "execution_count": 10,
   "metadata": {},
   "outputs": [],
   "source": [
    "stop_words = set(stopwords.words('english'))\n",
    "\n",
    "def clean_text(text):\n",
    "    text = text.lower()\n",
    "    text = re.sub(r'\\d+', '', text)\n",
    "    text = re.sub(r'[^\\w\\s]', '', text)\n",
    "    text = word_tokenize(text)\n",
    "    text = [word for word in text if word not in stop_words]\n",
    "    return ' '.join(text)\n",
    "\n",
    "train_data['text'] = train_data['text'].apply(clean_text)\n",
    "val_data['text'] = val_data['text'].apply(clean_text)"
   ]
  },
  {
   "cell_type": "code",
   "execution_count": 11,
   "metadata": {},
   "outputs": [],
   "source": [
    "# Tokenizer settings\n",
    "MAX_WORDS = 20000\n",
    "MAX_SENTENCES = 15\n",
    "MAX_WORDS_PER_SENTENCE = 50\n",
    "EMBEDDING_DIM = 200\n",
    "\n",
    "tokenizer = Tokenizer(num_words=MAX_WORDS, oov_token=\"<UNK>\")\n",
    "tokenizer.fit_on_texts(train_data['text'])\n",
    "\n",
    "def preprocess_texts(texts):\n",
    "    sequences = tokenizer.texts_to_sequences(texts)\n",
    "    sequences = pad_sequences(sequences, maxlen=MAX_WORDS_PER_SENTENCE)\n",
    "    return sequences\n",
    "\n",
    "def preprocess_documents(docs):\n",
    "    processed_docs = []\n",
    "    for doc in docs:\n",
    "        sentences = doc.split('. ')  # Split into sentences\n",
    "        sentences = sentences[:MAX_SENTENCES]  # Keep only the first MAX_SENTENCES sentences\n",
    "        processed_sentences = preprocess_texts(sentences)\n",
    "        if len(processed_sentences) < MAX_SENTENCES:\n",
    "            pad_length = MAX_SENTENCES - len(processed_sentences)\n",
    "            padding = np.zeros((pad_length, MAX_WORDS_PER_SENTENCE), dtype=np.int32)\n",
    "            processed_sentences = np.vstack([processed_sentences, padding])\n",
    "        processed_docs.append(processed_sentences)\n",
    "    processed_docs = np.array(processed_docs)\n",
    "    return processed_docs\n",
    "\n",
    "X_train = preprocess_documents(train_data['text'])\n",
    "X_val = preprocess_documents(val_data['text'])\n",
    "\n",
    "y_train = to_categorical(np.array(train_data['label']) - 1, num_classes=5)  \n",
    "y_val = to_categorical(np.array(val_data['label']) - 1, num_classes=5)\n"
   ]
  },
  {
   "cell_type": "code",
   "execution_count": 12,
   "metadata": {},
   "outputs": [],
   "source": [
    "class AttentionLayer(Layer):\n",
    "    def __init__(self, **kwargs):\n",
    "        super(AttentionLayer, self).__init__(**kwargs)\n",
    "\n",
    "    def build(self, input_shape):\n",
    "        self.W = self.add_weight(name='att_weight', shape=(input_shape[-1], input_shape[-1]), initializer='random_normal', trainable=True)\n",
    "        self.b = self.add_weight(name='att_bias', shape=(input_shape[-1],), initializer='random_normal', trainable=True)\n",
    "        self.u = self.add_weight(name='att_u', shape=(input_shape[-1],), initializer='random_normal', trainable=True)\n",
    "        super(AttentionLayer, self).build(input_shape)\n",
    "\n",
    "    def call(self, x):\n",
    "        uit = tf.tanh(tf.tensordot(x, self.W, axes=1) + self.b)\n",
    "        ait = tf.tensordot(uit, self.u, axes=1)\n",
    "        a = tf.nn.softmax(ait)\n",
    "        a = tf.expand_dims(a, axis=-1)\n",
    "        output = x * a\n",
    "        return tf.reduce_sum(output, axis=1)\n",
    "\n",
    "# Word-level attention\n",
    "word_input = Input(shape=(MAX_WORDS_PER_SENTENCE,), dtype='int32')\n",
    "word_sequences = Embedding(input_dim=MAX_WORDS, output_dim=EMBEDDING_DIM, input_length=MAX_WORDS_PER_SENTENCE)(word_input)\n",
    "word_lstm = Bidirectional(GRU(150, return_sequences=True))(word_sequences)\n",
    "word_dense = TimeDistributed(Dense(200))(word_lstm)\n",
    "word_attention = AttentionLayer()(word_dense)\n",
    "word_encoder = Model(word_input, word_attention)\n",
    "\n",
    "# Sentence-level attention\n",
    "sentence_input = Input(shape=(MAX_SENTENCES, MAX_WORDS_PER_SENTENCE), dtype='int32')\n",
    "sentence_encoder = TimeDistributed(word_encoder)(sentence_input)\n",
    "sentence_lstm = Bidirectional(GRU(150, return_sequences=True))(sentence_encoder)\n",
    "sentence_dense = TimeDistributed(Dense(200))(sentence_lstm)\n",
    "sentence_attention = AttentionLayer()(sentence_dense)\n",
    "dropout = Dropout(0.5)(sentence_attention)\n",
    "preds = Dense(5, activation='softmax')(dropout) \n",
    "\n",
    "model = Model(sentence_input, preds)\n"
   ]
  },
  {
   "cell_type": "code",
   "execution_count": 13,
   "metadata": {},
   "outputs": [
    {
     "name": "stdout",
     "output_type": "stream",
     "text": [
      "Model: \"model_1\"\n",
      "_________________________________________________________________\n",
      " Layer (type)                Output Shape              Param #   \n",
      "=================================================================\n",
      " input_2 (InputLayer)        [(None, 15, 50)]          0         \n",
      "                                                                 \n",
      " time_distributed_1 (TimeDis  (None, 15, 200)          4417400   \n",
      " tributed)                                                       \n",
      "                                                                 \n",
      " bidirectional_1 (Bidirectio  (None, 15, 300)          316800    \n",
      " nal)                                                            \n",
      "                                                                 \n",
      " time_distributed_2 (TimeDis  (None, 15, 200)          60200     \n",
      " tributed)                                                       \n",
      "                                                                 \n",
      " attention_layer_1 (Attentio  (None, 200)              40400     \n",
      " nLayer)                                                         \n",
      "                                                                 \n",
      " dropout (Dropout)           (None, 200)               0         \n",
      "                                                                 \n",
      " dense_2 (Dense)             (None, 5)                 1005      \n",
      "                                                                 \n",
      "=================================================================\n",
      "Total params: 4,835,805\n",
      "Trainable params: 4,835,805\n",
      "Non-trainable params: 0\n",
      "_________________________________________________________________\n"
     ]
    }
   ],
   "source": [
    "model.compile(loss='categorical_crossentropy', optimizer='adam', metrics=['accuracy'])\n",
    "model.summary()\n"
   ]
  },
  {
   "cell_type": "code",
   "execution_count": 14,
   "metadata": {},
   "outputs": [
    {
     "name": "stdout",
     "output_type": "stream",
     "text": [
      "Epoch 1/20\n",
      "267/267 [==============================] - 85s 308ms/step - loss: 1.5810 - accuracy: 0.2607 - val_loss: 1.5835 - val_accuracy: 0.2534\n",
      "Epoch 2/20\n",
      "267/267 [==============================] - 93s 347ms/step - loss: 1.4298 - accuracy: 0.3787 - val_loss: 1.4141 - val_accuracy: 0.3633\n",
      "Epoch 3/20\n",
      "267/267 [==============================] - 97s 363ms/step - loss: 0.9776 - accuracy: 0.6099 - val_loss: 1.5599 - val_accuracy: 0.3742\n",
      "Epoch 4/20\n",
      "267/267 [==============================] - 97s 363ms/step - loss: 0.4323 - accuracy: 0.8454 - val_loss: 2.3263 - val_accuracy: 0.3542\n",
      "Epoch 5/20\n",
      "267/267 [==============================] - 98s 365ms/step - loss: 0.1987 - accuracy: 0.9321 - val_loss: 2.7073 - val_accuracy: 0.3588\n"
     ]
    }
   ],
   "source": [
    "# Early stopping and model checkpoint to save the best model\n",
    "early_stopping = tf.keras.callbacks.EarlyStopping(monitor='val_loss', patience=3, restore_best_weights=True)\n",
    "\n",
    "history = model.fit(X_train, y_train, epochs=20, batch_size=32, validation_data=(X_val, y_val), callbacks=[early_stopping])"
   ]
  }
 ],
 "metadata": {
  "kernelspec": {
   "display_name": "tf_env",
   "language": "python",
   "name": "python3"
  },
  "language_info": {
   "codemirror_mode": {
    "name": "ipython",
    "version": 3
   },
   "file_extension": ".py",
   "mimetype": "text/x-python",
   "name": "python",
   "nbconvert_exporter": "python",
   "pygments_lexer": "ipython3",
   "version": "3.9.18"
  }
 },
 "nbformat": 4,
 "nbformat_minor": 2
}
